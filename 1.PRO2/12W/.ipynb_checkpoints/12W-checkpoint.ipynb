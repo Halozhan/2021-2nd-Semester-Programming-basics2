{
 "cells": [
  {
   "cell_type": "code",
   "execution_count": 2,
   "id": "00838e3a",
   "metadata": {},
   "outputs": [],
   "source": [
    "import numpy as np\n",
    "import pandas as pd\n",
    "import matplotlib.pyplot as plt\n",
    "%matplotlib inline"
   ]
  },
  {
   "cell_type": "code",
   "execution_count": 3,
   "id": "ca8a714c",
   "metadata": {},
   "outputs": [],
   "source": [
    "import platform\n",
    "from matplotlib import font_manager, rc \n",
    "import matplotlib\n",
    "# '-' 부호가 제대로 표시되게 하는 설정 \n",
    "matplotlib.rcParams['axes.unicode_minus'] = False\n",
    "# 운영 체제마다 한글이 보이게 하는 설정 # 윈도우\n",
    "if platform.system() == 'Windows':\n",
    "    path = \"c:\\Windows\\Fonts\\malgun.ttf\"\n",
    "    font_name = font_manager.FontProperties(fname=path).get_name() \n",
    "    rc('font', family=font_name)\n",
    "#맥\n",
    "elif platform.system() == 'Darwin': \n",
    "    rc('font', family='AppleGothic')\n",
    "# 리눅스\n",
    "elif platform.system() == 'Linux':\n",
    "    rc('font', family='NanumBarunGothic')\n"
   ]
  },
  {
   "cell_type": "code",
   "execution_count": 4,
   "id": "44b88273",
   "metadata": {},
   "outputs": [
    {
     "name": "stdout",
     "output_type": "stream",
     "text": [
      "Requirement already satisfied: xlrd in c:\\users\\juwon\\anaconda3\\lib\\site-packages (2.0.1)\n",
      "Requirement already satisfied: xlwt in c:\\users\\juwon\\anaconda3\\lib\\site-packages (1.3.0)\n",
      "Requirement already satisfied: openpyxl in c:\\users\\juwon\\anaconda3\\lib\\site-packages (3.0.7)\n",
      "Requirement already satisfied: et-xmlfile in c:\\users\\juwon\\anaconda3\\lib\\site-packages (from openpyxl) (1.0.1)\n"
     ]
    }
   ],
   "source": [
    "!pip install xlrd xlwt\n",
    "!pip install openpyxl"
   ]
  },
  {
   "cell_type": "code",
   "execution_count": 6,
   "id": "e07b45ef",
   "metadata": {},
   "outputs": [
    {
     "name": "stdout",
     "output_type": "stream",
     "text": [
      "0     1\n",
      "1     2\n",
      "2     3\n",
      "3     4\n",
      "4     5\n",
      "5     A\n",
      "6     B\n",
      "7     C\n",
      "8     가\n",
      "9     나\n",
      "10    다\n",
      "dtype: object\n",
      "<class 'pandas.core.series.Series'>\n"
     ]
    }
   ],
   "source": [
    "data_series = pd.Series([1, 2, 3, 4, 5, 'A', 'B', 'C', '가', '나', '다'])\n",
    "print(data_series)\n",
    "print(type(data_series))"
   ]
  },
  {
   "cell_type": "code",
   "execution_count": 9,
   "id": "54f59fd4",
   "metadata": {},
   "outputs": [
    {
     "name": "stdout",
     "output_type": "stream",
     "text": [
      "a    1\n",
      "b    2\n",
      "c    3\n",
      "d    4\n",
      "e    5\n",
      "f    A\n",
      "g    B\n",
      "h    C\n",
      "i    가\n",
      "k    나\n",
      "k    다\n",
      "dtype: object\n",
      "a    1\n",
      "b    2\n",
      "c    3\n",
      "d    4\n",
      "e    5\n",
      "f    A\n",
      "g    B\n",
      "h    C\n",
      "i    가\n",
      "k    나\n",
      "k    다\n",
      "dtype: object\n"
     ]
    }
   ],
   "source": [
    "# 두개의 리스트로 인덱스 설정\n",
    "data_series1 = pd.Series([1, 2, 3, 4, 5, 'A', 'B', 'C', '가', '나', '다'], ['a','b','c','d','e','f','g','h','i','k','k'])\n",
    "print(data_series1)\n",
    "\n",
    "# index의 인수로 인덱스 설정\n",
    "data_series2 = pd.Series([1, 2, 3, 4, 5, 'A', 'B', 'C', '가', '나', '다'], index = ['a','b','c','d','e','f','g','h','i','k','k']\n",
    ")\n",
    "print(data_series2)"
   ]
  },
  {
   "cell_type": "code",
   "execution_count": 12,
   "id": "bc58187e",
   "metadata": {},
   "outputs": [
    {
     "name": "stdout",
     "output_type": "stream",
     "text": [
      "a    1\n",
      "b    2\n",
      "c    3\n",
      "d    4\n",
      "e    5\n",
      "dtype: int64\n",
      "a    1\n",
      "b    2\n",
      "c    4\n",
      "e    5\n",
      "dtype: int64\n"
     ]
    }
   ],
   "source": [
    "data_series3 = pd.Series(({'a': 1, 'b': 2, 'c': 3, 'd': 4, 'e': 5}))\n",
    "print(data_series3)\n",
    "\n",
    "data_series4 = pd.Series(({'a': 1, 'b': 2, 'c': 3, 'c': 4, 'e': 5}))\n",
    "# 딕셔너리의 중복된 키(key)에 해당하는 값(value)은 마지막 값으로 덮어씀\n",
    "print(data_series4)"
   ]
  },
  {
   "cell_type": "code",
   "execution_count": 14,
   "id": "f2b75da6",
   "metadata": {},
   "outputs": [
    {
     "name": "stdout",
     "output_type": "stream",
     "text": [
      "   A  B\n",
      "0  1  5\n",
      "1  2  6\n",
      "2  3  7\n",
      "3  4  8\n",
      "<class 'pandas.core.frame.DataFrame'>\n"
     ]
    }
   ],
   "source": [
    "data_frame = pd.DataFrame({\"A\": [1,2,3,4], \"B\": [5,6,7,8]})\n",
    "print(data_frame)\n",
    "print(type(data_frame))"
   ]
  },
  {
   "cell_type": "code",
   "execution_count": 15,
   "id": "cd790c8b",
   "metadata": {},
   "outputs": [
    {
     "name": "stdout",
     "output_type": "stream",
     "text": [
      "   A  B\n",
      "0  1  5\n",
      "1  2  6\n",
      "2  3  7\n",
      "3  4  8\n",
      "<class 'pandas.core.frame.DataFrame'>\n"
     ]
    }
   ],
   "source": [
    "data_frame2 = pd.DataFrame([[1,5], [2,6], [3,7], [4,8]], columns=['A', 'B'])\n",
    "print(data_frame2)\n",
    "print(type(data_frame2))"
   ]
  },
  {
   "cell_type": "markdown",
   "id": "a65dc222",
   "metadata": {},
   "source": [
    "### 람다 함수\n",
    "\n",
    "-람다함수를 통해 이름이 없는 함수를 만들 수 있습니다.\n",
    "\n",
    "-람다함수의 장점은 코드의 간결함 메모리의 절약이라고 생각할 수 있습니다.\n",
    "\n",
    "      lambda x : x + 1\n"
   ]
  },
  {
   "cell_type": "code",
   "execution_count": 16,
   "id": "c05b4342",
   "metadata": {},
   "outputs": [
    {
     "data": {
      "text/plain": [
       "11"
      ]
     },
     "execution_count": 16,
     "metadata": {},
     "output_type": "execute_result"
    }
   ],
   "source": [
    "fc = lambda x : x + 1\n",
    "fc(10)"
   ]
  },
  {
   "cell_type": "code",
   "execution_count": 24,
   "id": "810d001b",
   "metadata": {},
   "outputs": [
    {
     "name": "stdout",
     "output_type": "stream",
     "text": [
      "   A   B   C\n",
      "a  0   1   2\n",
      "b  3   4   5\n",
      "c  6   7   8\n",
      "d  9  10  11\n"
     ]
    }
   ],
   "source": [
    "f = lambda x : x.max() - x.min()\n",
    "\n",
    "df = pd.DataFrame(np.arange(0, 12, 1).reshape(4,3), columns = ['A', 'B', 'C'], index = ['a', 'b', 'c', 'd'])\n",
    "# np.arange(0, 12, 1).reshape(4,3)\n",
    "print(df)"
   ]
  },
  {
   "cell_type": "code",
   "execution_count": 25,
   "id": "8cb19cf9",
   "metadata": {},
   "outputs": [
    {
     "data": {
      "text/plain": [
       "A    9\n",
       "B    9\n",
       "C    9\n",
       "dtype: int64"
      ]
     },
     "execution_count": 25,
     "metadata": {},
     "output_type": "execute_result"
    }
   ],
   "source": [
    "df.apply(f, 0) # 0은 열기준"
   ]
  },
  {
   "cell_type": "code",
   "execution_count": 26,
   "id": "204f8ced",
   "metadata": {},
   "outputs": [
    {
     "data": {
      "text/plain": [
       "a    2\n",
       "b    2\n",
       "c    2\n",
       "d    2\n",
       "dtype: int64"
      ]
     },
     "execution_count": 26,
     "metadata": {},
     "output_type": "execute_result"
    }
   ],
   "source": [
    "df.apply(f, 1) # 1은 행기준"
   ]
  },
  {
   "cell_type": "code",
   "execution_count": 27,
   "id": "3099f392",
   "metadata": {},
   "outputs": [
    {
     "data": {
      "text/html": [
       "<div>\n",
       "<style scoped>\n",
       "    .dataframe tbody tr th:only-of-type {\n",
       "        vertical-align: middle;\n",
       "    }\n",
       "\n",
       "    .dataframe tbody tr th {\n",
       "        vertical-align: top;\n",
       "    }\n",
       "\n",
       "    .dataframe thead th {\n",
       "        text-align: right;\n",
       "    }\n",
       "</style>\n",
       "<table border=\"1\" class=\"dataframe\">\n",
       "  <thead>\n",
       "    <tr style=\"text-align: right;\">\n",
       "      <th></th>\n",
       "      <th>A</th>\n",
       "      <th>B</th>\n",
       "      <th>C</th>\n",
       "    </tr>\n",
       "  </thead>\n",
       "  <tbody>\n",
       "    <tr>\n",
       "      <th>a</th>\n",
       "      <td>1</td>\n",
       "      <td>2</td>\n",
       "      <td>3</td>\n",
       "    </tr>\n",
       "    <tr>\n",
       "      <th>b</th>\n",
       "      <td>4</td>\n",
       "      <td>5</td>\n",
       "      <td>6</td>\n",
       "    </tr>\n",
       "    <tr>\n",
       "      <th>c</th>\n",
       "      <td>7</td>\n",
       "      <td>8</td>\n",
       "      <td>9</td>\n",
       "    </tr>\n",
       "    <tr>\n",
       "      <th>d</th>\n",
       "      <td>10</td>\n",
       "      <td>11</td>\n",
       "      <td>12</td>\n",
       "    </tr>\n",
       "  </tbody>\n",
       "</table>\n",
       "</div>"
      ],
      "text/plain": [
       "    A   B   C\n",
       "a   1   2   3\n",
       "b   4   5   6\n",
       "c   7   8   9\n",
       "d  10  11  12"
      ]
     },
     "execution_count": 27,
     "metadata": {},
     "output_type": "execute_result"
    }
   ],
   "source": [
    "df.apply(fc)"
   ]
  },
  {
   "cell_type": "markdown",
   "id": "ef596cd3",
   "metadata": {},
   "source": [
    "# CSV 파일 읽어오기, EXCEL 파일 읽어오기"
   ]
  },
  {
   "cell_type": "code",
   "execution_count": 32,
   "id": "f977679f",
   "metadata": {},
   "outputs": [
    {
     "name": "stdout",
     "output_type": "stream",
     "text": [
      "    Unnamed: 0 Unnamed: 1 Unnamed: 2 Unnamed: 3 Unnamed: 4\n",
      "0          NaN         학번    프로그래밍기초     빅데이터분석       AI활용\n",
      "1          NaN     201001         64         60         84\n",
      "2          NaN     201002         98         55         79\n",
      "3          NaN     201003         82         94        100\n",
      "4          NaN     201004         69         93         52\n",
      "5          NaN     201005         78         75         85\n",
      "6          NaN     201006         58         96         60\n",
      "7          NaN     201007         95         70         80\n",
      "8          NaN     201008         71         73         51\n",
      "9          NaN     201009         81         52         62\n",
      "10         NaN     201010         51         87         80\n",
      "11         NaN     201011         89         94         56\n",
      "12         NaN     201012         69         98         51\n",
      "13         NaN     201013         98         99         77\n",
      "14         NaN     201014         62         60         54\n",
      "15         NaN     201015         53         58         62\n",
      "16         NaN     201016         81         88         87\n",
      "17         NaN     201017         53         74         98\n",
      "18         NaN     201018         56         67         68\n",
      "19         NaN     201019         87         65         70\n",
      "20         NaN     201020         50         54         66\n"
     ]
    }
   ],
   "source": [
    "import numpy as np\n",
    "import pandas as pd\n",
    "data = pd.read_excel(\"sample.xlsx\")\n",
    "print(data)"
   ]
  },
  {
   "cell_type": "code",
   "execution_count": 33,
   "id": "e840e383",
   "metadata": {},
   "outputs": [
    {
     "name": "stdout",
     "output_type": "stream",
     "text": [
      "        학번  프로그래밍기초  빅데이터분석  AI활용\n",
      "0   201001       64      60    84\n",
      "1   201002       98      55    79\n",
      "2   201003       82      94   100\n",
      "3   201004       69      93    52\n",
      "4   201005       78      75    85\n",
      "5   201006       58      96    60\n",
      "6   201007       95      70    80\n",
      "7   201008       71      73    51\n",
      "8   201009       81      52    62\n",
      "9   201010       51      87    80\n",
      "10  201011       89      94    56\n",
      "11  201012       69      98    51\n",
      "12  201013       98      99    77\n",
      "13  201014       62      60    54\n",
      "14  201015       53      58    62\n",
      "15  201016       81      88    87\n",
      "16  201017       53      74    98\n",
      "17  201018       56      67    68\n",
      "18  201019       87      65    70\n",
      "19  201020       50      54    66\n"
     ]
    }
   ],
   "source": [
    "import numpy as np\n",
    "import pandas as pd\n",
    "data = pd.read_csv(\"sample.csv\")\n",
    "print(data)"
   ]
  },
  {
   "cell_type": "code",
   "execution_count": 34,
   "id": "991dac4d",
   "metadata": {},
   "outputs": [
    {
     "name": "stdout",
     "output_type": "stream",
     "text": [
      "            학번  프로그래밍기초  빅데이터분석  AI활용\n",
      "학번                                   \n",
      "201001  201001       64      60    84\n",
      "201002  201002       98      55    79\n",
      "201003  201003       82      94   100\n",
      "201004  201004       69      93    52\n",
      "201005  201005       78      75    85\n",
      "201006  201006       58      96    60\n",
      "201007  201007       95      70    80\n",
      "201008  201008       71      73    51\n",
      "201009  201009       81      52    62\n",
      "201010  201010       51      87    80\n",
      "201011  201011       89      94    56\n",
      "201012  201012       69      98    51\n",
      "201013  201013       98      99    77\n",
      "201014  201014       62      60    54\n",
      "201015  201015       53      58    62\n",
      "201016  201016       81      88    87\n",
      "201017  201017       53      74    98\n",
      "201018  201018       56      67    68\n",
      "201019  201019       87      65    70\n",
      "201020  201020       50      54    66\n"
     ]
    }
   ],
   "source": [
    "# 인덱스 설정 : set_index()\n",
    "data2 = pd.read_csv(\"sample.csv\")\n",
    "data2 = data.set_index(\"학번\", drop = False)\n",
    "print(data2)"
   ]
  },
  {
   "cell_type": "code",
   "execution_count": 35,
   "id": "7c5199e0",
   "metadata": {},
   "outputs": [
    {
     "name": "stdout",
     "output_type": "stream",
     "text": [
      "        프로그래밍기초  빅데이터분석  AI활용\n",
      "학번                           \n",
      "201001       64      60    84\n",
      "201002       98      55    79\n",
      "201003       82      94   100\n",
      "201004       69      93    52\n",
      "201005       78      75    85\n",
      "201006       58      96    60\n",
      "201007       95      70    80\n",
      "201008       71      73    51\n",
      "201009       81      52    62\n",
      "201010       51      87    80\n",
      "201011       89      94    56\n",
      "201012       69      98    51\n",
      "201013       98      99    77\n",
      "201014       62      60    54\n",
      "201015       53      58    62\n",
      "201016       81      88    87\n",
      "201017       53      74    98\n",
      "201018       56      67    68\n",
      "201019       87      65    70\n",
      "201020       50      54    66\n"
     ]
    }
   ],
   "source": [
    "# 인덱스 설정 : set_index()\n",
    "data2 = pd.read_csv(\"sample.csv\")\n",
    "data2 = data.set_index(\"학번\", drop = True)\n",
    "print(data2)"
   ]
  },
  {
   "cell_type": "code",
   "execution_count": 36,
   "id": "b2309215",
   "metadata": {},
   "outputs": [
    {
     "name": "stdout",
     "output_type": "stream",
     "text": [
      "            학번  프로그래밍기초  빅데이터분석  AI활용\n",
      "학번                                   \n",
      "201001  201001       64      60    84\n",
      "201002  201002       98      55    79\n",
      "201003  201003       82      94   100\n",
      "201004  201004       69      93    52\n",
      "201005  201005       78      75    85\n",
      "201006  201006       58      96    60\n",
      "201007  201007       95      70    80\n",
      "201008  201008       71      73    51\n",
      "201009  201009       81      52    62\n",
      "201010  201010       51      87    80\n",
      "201011  201011       89      94    56\n",
      "201012  201012       69      98    51\n",
      "201013  201013       98      99    77\n",
      "201014  201014       62      60    54\n",
      "201015  201015       53      58    62\n",
      "201016  201016       81      88    87\n",
      "201017  201017       53      74    98\n",
      "201018  201018       56      67    68\n",
      "201019  201019       87      65    70\n",
      "201020  201020       50      54    66\n",
      "    index      학번  프로그래밍기초  빅데이터분석  AI활용\n",
      "0       0  201001       64      60    84\n",
      "1       1  201002       98      55    79\n",
      "2       2  201003       82      94   100\n",
      "3       3  201004       69      93    52\n",
      "4       4  201005       78      75    85\n",
      "5       5  201006       58      96    60\n",
      "6       6  201007       95      70    80\n",
      "7       7  201008       71      73    51\n",
      "8       8  201009       81      52    62\n",
      "9       9  201010       51      87    80\n",
      "10     10  201011       89      94    56\n",
      "11     11  201012       69      98    51\n",
      "12     12  201013       98      99    77\n",
      "13     13  201014       62      60    54\n",
      "14     14  201015       53      58    62\n",
      "15     15  201016       81      88    87\n",
      "16     16  201017       53      74    98\n",
      "17     17  201018       56      67    68\n",
      "18     18  201019       87      65    70\n",
      "19     19  201020       50      54    66\n"
     ]
    }
   ],
   "source": [
    "# 뒤 섞인 인덱스를 순차적으로 다시 설정 : reset_index()\n",
    "data2 = pd.read_csv(\"sample.csv\")\n",
    "data2 = data.set_index(\"학번\", drop = False)\n",
    "\n",
    "print(data2)\n",
    "\n",
    "data2 = data.reset_index(drop = False)\n",
    "\n",
    "print(data2)"
   ]
  },
  {
   "cell_type": "code",
   "execution_count": 37,
   "id": "3e2757dd",
   "metadata": {},
   "outputs": [
    {
     "name": "stdout",
     "output_type": "stream",
     "text": [
      "        프로그래밍기초  빅데이터분석  AI활용\n",
      "학번                           \n",
      "201001       64      60    84\n",
      "201002       98      55    79\n",
      "201003       82      94   100\n",
      "201004       69      93    52\n",
      "201005       78      75    85\n",
      "201006       58      96    60\n",
      "201007       95      70    80\n",
      "201008       71      73    51\n",
      "201009       81      52    62\n",
      "201010       51      87    80\n",
      "201011       89      94    56\n",
      "201012       69      98    51\n",
      "201013       98      99    77\n",
      "201014       62      60    54\n",
      "201015       53      58    62\n",
      "201016       81      88    87\n",
      "201017       53      74    98\n",
      "201018       56      67    68\n",
      "201019       87      65    70\n",
      "201020       50      54    66\n",
      "        학번  프로그래밍기초  빅데이터분석  AI활용\n",
      "0   201001       64      60    84\n",
      "1   201002       98      55    79\n",
      "2   201003       82      94   100\n",
      "3   201004       69      93    52\n",
      "4   201005       78      75    85\n",
      "5   201006       58      96    60\n",
      "6   201007       95      70    80\n",
      "7   201008       71      73    51\n",
      "8   201009       81      52    62\n",
      "9   201010       51      87    80\n",
      "10  201011       89      94    56\n",
      "11  201012       69      98    51\n",
      "12  201013       98      99    77\n",
      "13  201014       62      60    54\n",
      "14  201015       53      58    62\n",
      "15  201016       81      88    87\n",
      "16  201017       53      74    98\n",
      "17  201018       56      67    68\n",
      "18  201019       87      65    70\n",
      "19  201020       50      54    66\n"
     ]
    }
   ],
   "source": [
    "# 뒤 섞인 인덱스를 순차적으로 다시 설정 : reset_index()\n",
    "data2 = pd.read_csv(\"sample.csv\")\n",
    "data2 = data.set_index(\"학번\", drop = True)\n",
    "\n",
    "print(data2)\n",
    "\n",
    "data2 = data.reset_index(drop = True)\n",
    "\n",
    "print(data2)"
   ]
  },
  {
   "cell_type": "code",
   "execution_count": 40,
   "id": "3c5a7f2a",
   "metadata": {},
   "outputs": [
    {
     "name": "stdout",
     "output_type": "stream",
     "text": [
      "        학번  프로그래밍기초  빅데이터분석  AI활용\n",
      "0   201001       64      60    84\n",
      "1   201002       98      55    79\n",
      "2   201003       82      94   100\n",
      "3   201004       69      93    52\n",
      "4   201005       78      75    85\n",
      "5   201006       58      96    60\n",
      "6   201007       95      70    80\n",
      "7   201008       71      73    51\n",
      "8   201009       81      52    62\n",
      "9   201010       51      87    80\n",
      "10  201011       89      94    56\n",
      "11  201012       69      98    51\n",
      "12  201013       98      99    77\n",
      "13  201014       62      60    54\n",
      "14  201015       53      58    62\n",
      "15  201016       81      88    87\n",
      "16  201017       53      74    98\n",
      "17  201018       56      67    68\n",
      "18  201019       87      65    70\n",
      "19  201020       50      54    66\n",
      "데이터의 전체 크기는 80\n"
     ]
    }
   ],
   "source": [
    "# 데이터 전체 보기 및 size 확인: dataframe.size\n",
    "data = pd.read_csv(\"sample.csv\")\n",
    "print(data)\n",
    "print(\"데이터의 전체 크기는\", data.size)"
   ]
  },
  {
   "cell_type": "code",
   "execution_count": 43,
   "id": "704ebde2",
   "metadata": {},
   "outputs": [
    {
     "name": "stdout",
     "output_type": "stream",
     "text": [
      "Index(['학번', '프로그래밍기초', '빅데이터분석', 'AI활용'], dtype='object')\n",
      "4\n"
     ]
    }
   ],
   "source": [
    "# 데이터 columns 확인: DataFrame.columns\n",
    "data = pd.read_csv(\"sample.csv\")\n",
    "data_col = data.columns\n",
    "print(data_col)\n",
    "\n",
    "data_len = len(data.columns)\n",
    "print(data_len)"
   ]
  },
  {
   "cell_type": "code",
   "execution_count": 46,
   "id": "e409a18d",
   "metadata": {},
   "outputs": [
    {
     "name": "stdout",
     "output_type": "stream",
     "text": [
      "[[201001     64     60     84]\n",
      " [201002     98     55     79]\n",
      " [201003     82     94    100]\n",
      " [201004     69     93     52]\n",
      " [201005     78     75     85]\n",
      " [201006     58     96     60]\n",
      " [201007     95     70     80]\n",
      " [201008     71     73     51]\n",
      " [201009     81     52     62]\n",
      " [201010     51     87     80]\n",
      " [201011     89     94     56]\n",
      " [201012     69     98     51]\n",
      " [201013     98     99     77]\n",
      " [201014     62     60     54]\n",
      " [201015     53     58     62]\n",
      " [201016     81     88     87]\n",
      " [201017     53     74     98]\n",
      " [201018     56     67     68]\n",
      " [201019     87     65     70]\n",
      " [201020     50     54     66]]\n",
      "20\n"
     ]
    }
   ],
   "source": [
    "# 데이터 values 확인: DataFrame.values\n",
    "data = pd.read_csv(\"sample.csv\")\n",
    "data_val = data.values\n",
    "print(data_val)\n",
    "\n",
    "data_len = len(data.values)\n",
    "print(data_len)"
   ]
  },
  {
   "cell_type": "code",
   "execution_count": 51,
   "id": "5d7cc14b",
   "metadata": {},
   "outputs": [
    {
     "name": "stdout",
     "output_type": "stream",
     "text": [
      "0     64\n",
      "1     98\n",
      "2     82\n",
      "3     69\n",
      "4     78\n",
      "5     58\n",
      "6     95\n",
      "7     71\n",
      "8     81\n",
      "9     51\n",
      "10    89\n",
      "11    69\n",
      "12    98\n",
      "13    62\n",
      "14    53\n",
      "15    81\n",
      "16    53\n",
      "17    56\n",
      "18    87\n",
      "19    50\n",
      "Name: 프로그래밍기초, dtype: int64\n",
      "    프로그래밍기초  AI활용\n",
      "0        64    84\n",
      "1        98    79\n",
      "2        82   100\n",
      "3        69    52\n",
      "4        78    85\n",
      "5        58    60\n",
      "6        95    80\n",
      "7        71    51\n",
      "8        81    62\n",
      "9        51    80\n",
      "10       89    56\n",
      "11       69    51\n",
      "12       98    77\n",
      "13       62    54\n",
      "14       53    62\n",
      "15       81    87\n",
      "16       53    98\n",
      "17       56    68\n",
      "18       87    70\n",
      "19       50    66\n"
     ]
    }
   ],
   "source": [
    "# column 데이터 선택 : DataFrame.열이름\n",
    "data = pd.read_csv(\"sample.csv\")\n",
    "# data_1 = data[\"프로그래밍기초\"]\n",
    "# print(data_1)\n",
    "\n",
    "data_2 = data.프로그래밍기초\n",
    "print(data_2)\n",
    "\n",
    "data_3 = data[[\"프로그래밍기초\", \"AI활용\"]]\n",
    "print(data_3)"
   ]
  },
  {
   "cell_type": "code",
   "execution_count": 54,
   "id": "5c211c40",
   "metadata": {},
   "outputs": [
    {
     "name": "stdout",
     "output_type": "stream",
     "text": [
      "        학번  프로그래밍기초  빅데이터분석  AI활용\n",
      "0   201001       64      60    84\n",
      "1   201002       98      55    79\n",
      "2   201003       82      94   100\n",
      "3   201004       69      93    52\n",
      "4   201005       78      75    85\n",
      "5   201006       58      96    60\n",
      "6   201007       95      70    80\n",
      "7   201008       71      73    51\n",
      "8   201009       81      52    62\n",
      "9   201010       51      87    80\n",
      "10  201011       89      94    56\n",
      "11  201012       69      98    51\n",
      "12  201013       98      99    77\n",
      "13  201014       62      60    54\n",
      "14  201015       53      58    62\n",
      "15  201016       81      88    87\n",
      "16  201017       53      74    98\n",
      "17  201018       56      67    68\n",
      "18  201019       87      65    70\n",
      "19  201020       50      54    66\n",
      "       학번  프로그래밍기초  빅데이터분석  AI활용\n",
      "0  201001       64      60    84\n",
      "1  201002       98      55    79\n",
      "2  201003       82      94   100\n",
      "3  201004       69      93    52\n",
      "4  201005       78      75    85\n"
     ]
    }
   ],
   "source": [
    "# DataFrame의 행은 인덱스의 슬라이싱을 통해 얻을 수 있다.\n",
    "data = pd.read_csv(\"sample.csv\")\n",
    "print(data)\n",
    "data_1 = data[0:5]\n",
    "print(data_1)"
   ]
  },
  {
   "cell_type": "code",
   "execution_count": 58,
   "id": "8218af1a",
   "metadata": {},
   "outputs": [
    {
     "name": "stdout",
     "output_type": "stream",
     "text": [
      "학번         201001\n",
      "프로그래밍기초        64\n",
      "빅데이터분석         60\n",
      "AI활용           84\n",
      "Name: 0, dtype: int64\n",
      "   빅데이터분석  프로그래밍기초\n",
      "0      60       64\n",
      "1      55       98\n",
      "2      94       82\n",
      "3      93       69\n"
     ]
    }
   ],
   "source": [
    "# DataFrame.loc[행 인덱스 : 행 인덱스, ['열 이름', '열 이름'] ]\n",
    "\n",
    "data = pd.read_csv(\"sample.csv\")\n",
    "# print(data)\n",
    "data_1 = data.loc[0]\n",
    "print(data_1)\n",
    "\n",
    "data_2 = data.loc[0:3, [\"빅데이터분석\",\"프로그래밍기초\"]]\n",
    "print(data_2)"
   ]
  },
  {
   "cell_type": "code",
   "execution_count": 63,
   "id": "92bedc3e",
   "metadata": {},
   "outputs": [
    {
     "name": "stdout",
     "output_type": "stream",
     "text": [
      "        학번  프로그래밍기초  빅데이터분석  AI활용\n",
      "0   201001       64      60    84\n",
      "1   201002       98      55    79\n",
      "2   201003       82      94   100\n",
      "3   201004       69      93    52\n",
      "4   201005       78      75    85\n",
      "5   201006       58      96    60\n",
      "6   201007       95      70    80\n",
      "7   201008       71      73    51\n",
      "8   201009       81      52    62\n",
      "9   201010       51      87    80\n",
      "10  201011       89      94    56\n",
      "11  201012       69      98    51\n",
      "12  201013       98      99    77\n",
      "13  201014       62      60    54\n",
      "14  201015       53      58    62\n",
      "15  201016       81      88    87\n",
      "16  201017       53      74    98\n",
      "17  201018       56      67    68\n",
      "18  201019       87      65    70\n",
      "19  201020       50      54    66\n",
      "프로그래밍기초    64\n",
      "빅데이터분석     60\n",
      "AI활용       84\n",
      "Name: 0, dtype: int64\n",
      "   프로그래밍기초  AI활용\n",
      "0       64    84\n",
      "1       98    79\n",
      "2       82   100\n",
      "    프로그래밍기초  빅데이터분석\n",
      "2        82      94\n",
      "4        78      75\n",
      "10       89      94\n"
     ]
    }
   ],
   "source": [
    "data = pd.read_csv(\"sample.csv\")\n",
    "print(data)\n",
    "# data_1 = data.iloc[0,3] # 0, AI\n",
    "data_1 = data.iloc[0,1:4] # 1번 인덱 ~ 4번 인덱 앞까지(3)\n",
    "print(data_1)\n",
    "\n",
    "data_2 = data.iloc[0:3,[1,3]]\n",
    "print(data_2)\n",
    "\n",
    "data_3 = data.iloc[[2,4,10],[1,2]]\n",
    "print(data_3)"
   ]
  },
  {
   "cell_type": "code",
   "execution_count": 64,
   "id": "dc80e2d1",
   "metadata": {},
   "outputs": [
    {
     "name": "stdout",
     "output_type": "stream",
     "text": [
      "        학번  프로그래밍기초  빅데이터분석  AI활용\n",
      "0   201001       64      60    84\n",
      "1   201002       98      55    79\n",
      "2   201003       82      94   100\n",
      "3   201004       69      93    52\n",
      "4   201005       78      75    85\n",
      "5   201006       58      96    60\n",
      "6   201007       95      70    80\n",
      "7   201008       71      73    51\n",
      "8   201009       81      52    62\n",
      "9   201010       51      87    80\n",
      "10  201011       89      94    56\n",
      "11  201012       69      98    51\n",
      "12  201013       98      99    77\n",
      "13  201014       62      60    54\n",
      "14  201015       53      58    62\n",
      "15  201016       81      88    87\n",
      "16  201017       53      74    98\n",
      "17  201018       56      67    68\n",
      "18  201019       87      65    70\n",
      "19  201020       50      54    66\n",
      "       학번  프로그래밍기초  빅데이터분석  AI활용\n",
      "1  201002       98      55    79\n",
      "2  201003       82      94   100\n",
      "3  201004       69      93    52\n",
      "4  201005       78      75    85\n",
      "5  201006       58      96    60\n",
      "       학번  프로그래밍기초  빅데이터분석  AI활용\n",
      "1  201002       98      55    79\n",
      "2  201003       82      94   100\n",
      "3  201004       69      93    52\n",
      "4  201005       78      75    85\n"
     ]
    }
   ],
   "source": [
    "data = pd.read_csv(\"sample.csv\")\n",
    "print(data)\n",
    "data_1 = data.loc[1:5]\n",
    "data_2 = data.iloc[1:5]\n",
    "print(data_1)\n",
    "print(data_2)"
   ]
  },
  {
   "cell_type": "code",
   "execution_count": 67,
   "id": "be27be82",
   "metadata": {},
   "outputs": [
    {
     "name": "stdout",
     "output_type": "stream",
     "text": [
      "빅데이터분석    60\n",
      "Name: 0, dtype: int64\n",
      "프로그래밍기초    82\n",
      "Name: 2, dtype: int64\n",
      "60\n",
      "82\n"
     ]
    }
   ],
   "source": [
    "data = pd.read_csv(\"sample.csv\")\n",
    "data_1 = data.loc[0, ['빅데이터분석']] # 열 이름 가능\n",
    "print(data_1)\n",
    "\n",
    "\n",
    "data_2 = data.iloc[2, [1]] # 숫자\n",
    "print(data_2)\n",
    "\n",
    "data_3 = data.at[0, '빅데이터분석']\n",
    "print(data_3)\n",
    "\n",
    "data_4 = data.iat[2, 1]\n",
    "print(data_4)"
   ]
  },
  {
   "cell_type": "code",
   "execution_count": 74,
   "id": "a2f31382",
   "metadata": {},
   "outputs": [
    {
     "name": "stdout",
     "output_type": "stream",
     "text": [
      "        학번  프로그래밍기초  빅데이터분석  AI활용\n",
      "0   201001       64      60    84\n",
      "1   201002       98      55    79\n",
      "2   201003       82      94   100\n",
      "3   201004       69      93    52\n",
      "4   201005       78      75    85\n",
      "5   201006       58      96    60\n",
      "6   201007       95      70    80\n",
      "7   201008       71      73    51\n",
      "8   201009       81      52    62\n",
      "9   201010       51      87    80\n",
      "10  201011       89      94    56\n",
      "11  201012       69      98    51\n",
      "12  201013       98      99    77\n",
      "13  201014       62      60    54\n",
      "14  201015       53      58    62\n",
      "15  201016       81      88    87\n",
      "16  201017       53      74    98\n",
      "17  201018       56      67    68\n",
      "18  201019       87      65    70\n",
      "19  201020       50      54    66\n",
      "   빅데이터분석\n",
      "0      60\n",
      "1      55\n",
      "2      94\n",
      "3      93\n",
      "   빅데이터분석\n",
      "0      60\n",
      "1      55\n",
      "2      94\n",
      "60\n",
      "82\n"
     ]
    }
   ],
   "source": [
    "data = pd.read_csv('sample.csv')\n",
    "print(data)\n",
    "\n",
    "data_1 = data.loc[0:3, ['빅데이터분석']]\n",
    "print(data_1)\n",
    "\n",
    "data_2 = data.iloc[0:3, [2]]\n",
    "print(data_2)\n",
    "\n",
    "data_3 = data.at[0, '빅데이터분석']\n",
    "print(data_3)\n",
    "\n",
    "data_4 = data.iat[2, 1]\n",
    "print(data_4)"
   ]
  }
 ],
 "metadata": {
  "kernelspec": {
   "display_name": "Python 3",
   "language": "python",
   "name": "python3"
  },
  "language_info": {
   "codemirror_mode": {
    "name": "ipython",
    "version": 3
   },
   "file_extension": ".py",
   "mimetype": "text/x-python",
   "name": "python",
   "nbconvert_exporter": "python",
   "pygments_lexer": "ipython3",
   "version": "3.8.8"
  }
 },
 "nbformat": 4,
 "nbformat_minor": 5
}
