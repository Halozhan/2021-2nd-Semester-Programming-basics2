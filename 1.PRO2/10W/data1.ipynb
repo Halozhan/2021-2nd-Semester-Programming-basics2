{
 "cells": [
  {
   "attachments": {
    "%EC%83%81%EC%86%8D.jpg": {
     "image/jpeg": "[encoded data removed]"
    }
   },
   "cell_type": "markdown",
   "id": "102a8e0a",
   "metadata": {},
   "source": [
    "### 상속(Inheritance)\n",
    "- 클래스를 부모와 자식으로 나눈 후 부모클래스의 내용을 자식이 가져다 쓸 수 있는 것을 말합니다.  \n",
    "- 상속을 해주는 클래스가 부모  \n",
    "- 상속을 받는 클래스가 자식\n",
    "![%EC%83%81%EC%86%8D.jpg](attachment:%EC%83%81%EC%86%8D.jpg)"
   ]
  },
  {
   "cell_type": "code",
   "execution_count": 4,
   "id": "3dca13c5",
   "metadata": {},
   "outputs": [
    {
     "name": "stdout",
     "output_type": "stream",
     "text": [
      "안녕하세요\n",
      "공부하기\n"
     ]
    }
   ],
   "source": [
    "class Person:\n",
    "    def greeting(self):\n",
    "        print(\"안녕하세요\")\n",
    "        \n",
    "class Student(Person):\n",
    "    def study(self):\n",
    "        print(\"공부하기\")\n",
    "        \n",
    "james = Student()\n",
    "james.greeting()\n",
    "james.study()"
   ]
  },
  {
   "cell_type": "code",
   "execution_count": 9,
   "id": "1c867f3a",
   "metadata": {},
   "outputs": [
    {
     "name": "stdout",
     "output_type": "stream",
     "text": [
      "행복이\n",
      "멍멍~\n",
      "와우~\n"
     ]
    }
   ],
   "source": [
    "class Animal:\n",
    "    def __init__(self, name):\n",
    "        self.name = name\n",
    "    \n",
    "    def printName(self):\n",
    "        print(self.name)\n",
    "        \n",
    "class Dog(Animal): # 클래스 상속\n",
    "    def __init__(self, name, sound):\n",
    "        super().__init__(name) #super().__init__ 부모 클래스의 메소드에 접근 할 때 사용\n",
    "        self.sound = sound # 이를 통해 자식 클래스 Dog의 매개변수 namedmf 부모클래스의 속성 self.name에 저장\n",
    "        \n",
    "    def printSound(self):\n",
    "        print(self.sound)\n",
    "\n",
    "dog1 = Dog(\"행복이\", \"멍멍~\")\n",
    "dog1.printName()\n",
    "dog1.printSound()\n",
    "\n",
    "dog2 = Animal(\"와우~\")\n",
    "dog2.printName()"
   ]
  },
  {
   "cell_type": "code",
   "execution_count": 19,
   "id": "fdc8c644",
   "metadata": {},
   "outputs": [
    {
     "name": "stdout",
     "output_type": "stream",
     "text": [
      "['지점', '일시', '평균기온(°C)', '최저기온(°C)', '최고기온(°C)']\n",
      "['119', '2019-10-01', '22', '15.7', '27.4']\n",
      "['119', '2019-10-02', '21.9', '20.4', '23.8']\n",
      "['119', '2019-10-03', '22.8', '19.9', '27.8']\n",
      "['119', '2019-10-04', '21.9', '17.8', '26.9']\n",
      "['119', '2019-10-05', '18.9', '15.7', '22']\n",
      "['119', '2019-10-06', '18', '14', '22']\n",
      "['119', '2019-10-07', '14.8', '13.4', '17.9']\n",
      "['119', '2019-10-08', '15', '10.7', '20.6']\n",
      "['119', '2019-10-09', '12.8', '6.4', '19.6']\n",
      "['119', '2019-10-10', '14.9', '9.5', '20.2']\n",
      "['119', '2019-10-11', '18.8', '12.1', '24.8']\n",
      "['119', '2019-10-12', '18.3', '14.1', '23.3']\n",
      "['119', '2019-10-13', '16.9', '12.5', '22.9']\n",
      "['119', '2019-10-14', '14', '8.5', '19.4']\n",
      "['119', '2019-10-15', '13.3', '7.3', '19.6']\n",
      "['119', '2019-10-16', '13.9', '7.9', '20']\n",
      "['119', '2019-10-17', '14.6', '9.1', '20.6']\n",
      "['119', '2019-10-18', '16.7', '10', '21.9']\n",
      "['119', '2019-10-19', '16', '10.4', '22.2']\n",
      "['119', '2019-10-20', '15.1', '10.8', '21.7']\n",
      "['119', '2019-10-21', '16.1', '9.5', '23.9']\n",
      "['119', '2019-10-22', '16.6', '11.1', '23']\n",
      "['119', '2019-10-23', '17', '12.4', '20']\n",
      "['119', '2019-10-24', '18.6', '14.1', '23.3']\n",
      "['119', '2019-10-25', '16.6', '10.7', '21.7']\n",
      "['119', '2019-10-26', '9.8', '6.4', '13.9']\n",
      "['119', '2019-10-27', '10.2', '3', '16.8']\n",
      "['119', '2019-10-28', '12.4', '6.3', '17.4']\n",
      "['119', '2019-10-29', '12.6', '8.2', '18.1']\n",
      "['119', '2019-10-30', '10.3', '3.3', '17.1']\n",
      "['119', '2019-10-31', '14.1', '7.3', '20.4']\n"
     ]
    }
   ],
   "source": [
    "import csv\n",
    "f = open(\"데이터1/month_temp.csv\", mode=\"r\", encoding=\"utf-8\")\n",
    "lines = csv.reader(f)\n",
    "for line in lines:\n",
    "    print(line)\n",
    "f.close()"
   ]
  },
  {
   "cell_type": "code",
   "execution_count": 20,
   "id": "5a44f047",
   "metadata": {},
   "outputs": [
    {
     "name": "stdout",
     "output_type": "stream",
     "text": [
      "['\\ufeff권역', '수도권본부', '강원본부', '대전충남본부', '전북본부', '광주전남본부', '대구경북본부', '부산경남본부', '충북본부', '전국']\n",
      "['입출구', '출구', '출구', '출구', '출구', '출구', '출구', '출구', '출구', '출구']\n",
      "['2021.11.11', '1508110 ', '222270 ', '332460 ', '120902 ', '243893 ', '387890 ', '718270 ', '173588 ', '3707383 ']\n",
      "['2021.11.10', '1473722 ', '210857 ', '315251 ', '111566 ', '232492 ', '378619 ', '706388 ', '163260 ', '3592155 ']\n",
      "['2021.11.09', '1398907 ', '199321 ', '313413 ', '113001 ', '239203 ', '381787 ', '702444 ', '157944 ', '3506020 ']\n",
      "['2021.11.08', '1387424 ', '199028 ', '315090 ', '113051 ', '229813 ', '355454 ', '659184 ', '157910 ', '3416954 ']\n",
      "['2021.11.07', '1293487 ', '231490 ', '362217 ', '158073 ', '307716 ', '404447 ', '700234 ', '198755 ', '3656419 ']\n",
      "['2021.11.06', '1466266 ', '273842 ', '382287 ', '196579 ', '344809 ', '460469 ', '798969 ', '222798 ', '4146019 ']\n",
      "['2021.11.05', '1582585 ', '272295 ', '381174 ', '163217 ', '305236 ', '438895 ', '800322 ', '217400 ', '4161124 ']\n",
      "['2021.11.04', '1510453 ', '228608 ', '336763 ', '130991 ', '261527 ', '391852 ', '723259 ', '179342 ', '3762795 ']\n",
      "['2021.11.03', '1496654 ', '222202 ', '331975 ', '126015 ', '254545 ', '386286 ', '712517 ', '176895 ', '3707089 ']\n",
      "['2021.11.02', '1490397 ', '220893 ', '330927 ', '125837 ', '248473 ', '384944 ', '703889 ', '173437 ', '3678797 ']\n",
      "['2021.11.01', '1489533 ', '227202 ', '340425 ', '129303 ', '254966 ', '386671 ', '707893 ', '178815 ', '3714808 ']\n",
      "['2021.10.31', '1275984 ', '240082 ', '351486 ', '148767 ', '301414 ', '401192 ', '697578 ', '195613 ', '3612116 ']\n",
      "['2021.10.30', '1450620 ', '278194 ', '368073 ', '178786 ', '326079 ', '443252 ', '779780 ', '216285 ', '4041069 ']\n",
      "['2021.10.29', '1567157 ', '277581 ', '372069 ', '154305 ', '296905 ', '431567 ', '787105 ', '209526 ', '4096215 ']\n",
      "['2021.10.28', '1527402 ', '237391 ', '338418 ', '130271 ', '260081 ', '392502 ', '726114 ', '179431 ', '3791610 ']\n",
      "['2021.10.27', '1513692 ', '230640 ', '336154 ', '126194 ', '255223 ', '389632 ', '718135 ', '176775 ', '3746445 ']\n",
      "['2021.10.26', '1510903 ', '232892 ', '334013 ', '125985 ', '254903 ', '389093 ', '712800 ', '176788 ', '3737377 ']\n",
      "['2021.10.25', '1509058 ', '236944 ', '346111 ', '129471 ', '259237 ', '392748 ', '718495 ', '180411 ', '3772475 ']\n",
      "['2021.10.24', '1267724 ', '243197 ', '347857 ', '140174 ', '284338 ', '389337 ', '685052 ', '185179 ', '3542858 ']\n",
      "['2021.10.23', '1434712 ', '279665 ', '369507 ', '173713 ', '321989 ', '438204 ', '776744 ', '207574 ', '4002108 ']\n",
      "['2021.10.22', '1557934 ', '273070 ', '376151 ', '152722 ', '291563 ', '429263 ', '779571 ', '206838 ', '4067112 ']\n",
      "['2021.10.21', '1504425 ', '233306 ', '341179 ', '126265 ', '258270 ', '389887 ', '702655 ', '177444 ', '3733431 ']\n",
      "['2021.10.20', '1498593 ', '229807 ', '333656 ', '123590 ', '250393 ', '385941 ', '705124 ', '174898 ', '3702002 ']\n",
      "['2021.10.19', '1475252 ', '220091 ', '324191 ', '116491 ', '243416 ', '381254 ', '706587 ', '169194 ', '3636476 ']\n",
      "['2021.10.18', '1493969 ', '230643 ', '345512 ', '127399 ', '253200 ', '386399 ', '715627 ', '178618 ', '3731367 ']\n",
      "['2021.10.17', '1203596 ', '222741 ', '317586 ', '124762 ', '253920 ', '368394 ', '647773 ', '165718 ', '3304490 ']\n",
      "['2021.10.16', '1400801 ', '259048 ', '340907 ', '150166 ', '276557 ', '390295 ', '665912 ', '190902 ', '3674588 ']\n",
      "['2021.10.15', '1569843 ', '258915 ', '369130 ', '143757 ', '284854 ', '423668 ', '784426 ', '201583 ', '4036176 ']\n",
      "['2021.10.14', '1535113 ', '236288 ', '344838 ', '128517 ', '254288 ', '396392 ', '727678 ', '178654 ', '3801768 ']\n",
      "['2021.10.13', '1505022 ', '227215 ', '332488 ', '123661 ', '248059 ', '383885 ', '702702 ', '174672 ', '3697704 ']\n",
      "['2021.10.12', '1497806 ', '225832 ', '329878 ', '117294 ', '236269 ', '361175 ', '683314 ', '172179 ', '3623747 ']\n"
     ]
    }
   ],
   "source": [
    "import csv\n",
    "f = open(\"데이터1/고속도로통행_1.csv\", mode=\"r\", encoding=\"utf-8\")\n",
    "lines = csv.reader(f)\n",
    "for line in lines:\n",
    "    print(line)\n",
    "f.close()"
   ]
  },
  {
   "cell_type": "code",
   "execution_count": 27,
   "id": "fd5e1120",
   "metadata": {},
   "outputs": [
    {
     "name": "stdout",
     "output_type": "stream",
     "text": [
      "지점\t일시\t평균기온(°C)\t최저기온(°C)\t최고기온(°C)\t\n",
      "119\t2019-10-01\t22\t15.7\t27.4\t\n",
      "119\t2019-10-02\t21.9\t20.4\t23.8\t\n",
      "119\t2019-10-03\t22.8\t19.9\t27.8\t\n",
      "119\t2019-10-04\t21.9\t17.8\t26.9\t\n",
      "119\t2019-10-05\t18.9\t15.7\t22\t\n",
      "119\t2019-10-06\t18\t14\t22\t\n",
      "119\t2019-10-07\t14.8\t13.4\t17.9\t\n",
      "119\t2019-10-08\t15\t10.7\t20.6\t\n",
      "119\t2019-10-09\t12.8\t6.4\t19.6\t\n",
      "119\t2019-10-10\t14.9\t9.5\t20.2\t\n",
      "119\t2019-10-11\t18.8\t12.1\t24.8\t\n",
      "119\t2019-10-12\t18.3\t14.1\t23.3\t\n",
      "119\t2019-10-13\t16.9\t12.5\t22.9\t\n",
      "119\t2019-10-14\t14\t8.5\t19.4\t\n",
      "119\t2019-10-15\t13.3\t7.3\t19.6\t\n",
      "119\t2019-10-16\t13.9\t7.9\t20\t\n",
      "119\t2019-10-17\t14.6\t9.1\t20.6\t\n",
      "119\t2019-10-18\t16.7\t10\t21.9\t\n",
      "119\t2019-10-19\t16\t10.4\t22.2\t\n",
      "119\t2019-10-20\t15.1\t10.8\t21.7\t\n",
      "119\t2019-10-21\t16.1\t9.5\t23.9\t\n",
      "119\t2019-10-22\t16.6\t11.1\t23\t\n",
      "119\t2019-10-23\t17\t12.4\t20\t\n",
      "119\t2019-10-24\t18.6\t14.1\t23.3\t\n",
      "119\t2019-10-25\t16.6\t10.7\t21.7\t\n",
      "119\t2019-10-26\t9.8\t6.4\t13.9\t\n",
      "119\t2019-10-27\t10.2\t3\t16.8\t\n",
      "119\t2019-10-28\t12.4\t6.3\t17.4\t\n",
      "119\t2019-10-29\t12.6\t8.2\t18.1\t\n",
      "119\t2019-10-30\t10.3\t3.3\t17.1\t\n",
      "119\t2019-10-31\t14.1\t7.3\t20.4\t\n"
     ]
    }
   ],
   "source": [
    "import csv\n",
    "f = open(\"데이터1/month_temp.csv\", mode=\"r\", encoding=\"utf-8\")\n",
    "lines = csv.reader(f)\n",
    "for line in lines:\n",
    "    for x in range(len(line)):\n",
    "        print(line[x], end=\"\\t\")\n",
    "    print()\n",
    "f.close()"
   ]
  },
  {
   "cell_type": "code",
   "execution_count": 30,
   "id": "732cfbc2",
   "metadata": {},
   "outputs": [
    {
     "name": "stdout",
     "output_type": "stream",
     "text": [
      "['119', '2019-10-20', '15.1', '10.8', '21.7']\n"
     ]
    }
   ],
   "source": [
    "#특정 일자 10월 20일의 기온 데이터 출력\n",
    "import csv\n",
    "f = open(\"데이터1/month_temp.csv\", mode=\"r\", encoding=\"utf-8\")\n",
    "lines = csv.reader(f)\n",
    "for line in lines:\n",
    "    if line[1] == \"2019-10-20\": # if \"2019-10-20\" in line\n",
    "        print(line)\n",
    "f.close()"
   ]
  },
  {
   "cell_type": "code",
   "execution_count": 34,
   "id": "4d580cab",
   "metadata": {},
   "outputs": [
    {
     "name": "stdout",
     "output_type": "stream",
     "text": [
      "['지점', '일시', '평균기온(°C)', '최저기온(°C)', '최고기온(°C)']\n"
     ]
    }
   ],
   "source": [
    "import csv\n",
    "f = open(\"데이터1/month_temp.csv\", mode=\"r\", encoding=\"utf-8\")\n",
    "lines = csv.reader(f)\n",
    "\n",
    "print(header)\n",
    "f.close()"
   ]
  },
  {
   "cell_type": "code",
   "execution_count": 44,
   "id": "48ee8dd3",
   "metadata": {},
   "outputs": [
    {
     "name": "stdout",
     "output_type": "stream",
     "text": [
      "일자 최고기온 최저기온 일교차\n",
      "2019-10-01 27.4 15.7 11.7\n",
      "2019-10-02 23.8 20.4 3.4\n",
      "2019-10-03 27.8 19.9 7.9\n",
      "2019-10-04 26.9 17.8 9.1\n",
      "2019-10-05 22.0 15.7 6.3\n",
      "2019-10-06 22.0 14.0 8.0\n",
      "2019-10-07 17.9 13.4 4.5\n",
      "2019-10-08 20.6 10.7 9.9\n",
      "2019-10-09 19.6 6.4 13.2\n",
      "2019-10-10 20.2 9.5 10.7\n",
      "2019-10-11 24.8 12.1 12.7\n",
      "2019-10-12 23.3 14.1 9.2\n",
      "2019-10-13 22.9 12.5 10.4\n",
      "2019-10-14 19.4 8.5 10.9\n",
      "2019-10-15 19.6 7.3 12.3\n",
      "2019-10-16 20.0 7.9 12.1\n",
      "2019-10-17 20.6 9.1 11.5\n",
      "2019-10-18 21.9 10.0 11.9\n",
      "2019-10-19 22.2 10.4 11.8\n",
      "2019-10-20 21.7 10.8 10.9\n",
      "2019-10-21 23.9 9.5 14.4\n",
      "2019-10-22 23.0 11.1 11.9\n",
      "2019-10-23 20.0 12.4 7.6\n",
      "2019-10-24 23.3 14.1 9.2\n",
      "2019-10-25 21.7 10.7 11.0\n",
      "2019-10-26 13.9 6.4 7.5\n",
      "2019-10-27 16.8 3.0 13.8\n",
      "2019-10-28 17.4 6.3 11.1\n",
      "2019-10-29 18.1 8.2 9.9\n",
      "2019-10-30 17.1 3.3 13.8\n",
      "2019-10-31 20.4 7.3 13.1\n"
     ]
    }
   ],
   "source": [
    "# 일교차 분석\n",
    "\n",
    "import csv\n",
    "f = open(\"데이터1/month_temp.csv\", mode=\"r\", encoding=\"utf-8\")\n",
    "lines = csv.reader(f)\n",
    "\n",
    "next(lines) # 헤더 건너뛴다.  만약 생략되면 문자열로 된 제목 헤더가 읽혀지고 연산 불가능\n",
    "\n",
    "print(\"%s %s %s %s\" % (\"일자\", \"최고기온\", \"최저기온\", \"일교차\"))\n",
    "\n",
    "for line in lines:\n",
    "    diff = float(line[4]) - float(line[3])\n",
    "    print(\"%s %.1f %.1f %.1f\" % (line[1], float(line[4]), float(line[3]), diff))\n",
    "\n",
    "f.close()"
   ]
  },
  {
   "cell_type": "code",
   "execution_count": 48,
   "id": "a8e6d851",
   "metadata": {},
   "outputs": [
    {
     "name": "stdout",
     "output_type": "stream",
     "text": [
      "지점/일시/평균기온(°C)/최저기온(°C)/최고기온(°C)/\n",
      "119/2019-10-01/22/15.7/27.4/\n",
      "119/2019-10-02/21.9/20.4/23.8/\n",
      "119/2019-10-03/22.8/19.9/27.8/\n",
      "119/2019-10-04/21.9/17.8/26.9/\n",
      "119/2019-10-05/18.9/15.7/22/\n",
      "119/2019-10-06/18/14/22/\n",
      "119/2019-10-07/14.8/13.4/17.9/\n",
      "119/2019-10-08/15/10.7/20.6/\n",
      "119/2019-10-09/12.8/6.4/19.6/\n",
      "119/2019-10-10/14.9/9.5/20.2/\n",
      "119/2019-10-11/18.8/12.1/24.8/\n",
      "119/2019-10-12/18.3/14.1/23.3/\n",
      "119/2019-10-13/16.9/12.5/22.9/\n",
      "119/2019-10-14/14/8.5/19.4/\n",
      "119/2019-10-15/13.3/7.3/19.6/\n",
      "119/2019-10-16/13.9/7.9/20/\n",
      "119/2019-10-17/14.6/9.1/20.6/\n",
      "119/2019-10-18/16.7/10/21.9/\n",
      "119/2019-10-19/16/10.4/22.2/\n",
      "119/2019-10-20/15.1/10.8/21.7/\n",
      "119/2019-10-21/16.1/9.5/23.9/\n",
      "119/2019-10-22/16.6/11.1/23/\n",
      "119/2019-10-23/17/12.4/20/\n",
      "119/2019-10-24/18.6/14.1/23.3/\n",
      "119/2019-10-25/16.6/10.7/21.7/\n",
      "119/2019-10-26/9.8/6.4/13.9/\n",
      "119/2019-10-27/10.2/3/16.8/\n",
      "119/2019-10-28/12.4/6.3/17.4/\n",
      "119/2019-10-29/12.6/8.2/18.1/\n",
      "119/2019-10-30/10.3/3.3/17.1/\n",
      "119/2019-10-31/14.1/7.3/20.4/\n"
     ]
    }
   ],
   "source": [
    "# month_temp.csv 파일을 읽어서 데이터 사이에 /를 삽입해서 출력\n",
    "\n",
    "import csv\n",
    "f = open(\"데이터1/month_temp.csv\", mode=\"r\", encoding=\"utf-8\")\n",
    "lines = csv.reader(f)\n",
    "\n",
    "for line in lines:\n",
    "    for x in line:\n",
    "        print(\"%s\" % x, end=\"/\")\n",
    "    print()\n",
    "\n",
    "f.close()"
   ]
  },
  {
   "cell_type": "code",
   "execution_count": 49,
   "id": "02f31abc",
   "metadata": {},
   "outputs": [
    {
     "name": "stdout",
     "output_type": "stream",
     "text": [
      "﻿권역/수도권본부/강원본부/대전충남본부/전북본부/광주전남본부/대구경북본부/부산경남본부/충북본부/전국/\n",
      "입출구/출구/출구/출구/출구/출구/출구/출구/출구/출구/\n",
      "2021.11.11/1508110 /222270 /332460 /120902 /243893 /387890 /718270 /173588 /3707383 /\n",
      "2021.11.10/1473722 /210857 /315251 /111566 /232492 /378619 /706388 /163260 /3592155 /\n",
      "2021.11.09/1398907 /199321 /313413 /113001 /239203 /381787 /702444 /157944 /3506020 /\n",
      "2021.11.08/1387424 /199028 /315090 /113051 /229813 /355454 /659184 /157910 /3416954 /\n",
      "2021.11.07/1293487 /231490 /362217 /158073 /307716 /404447 /700234 /198755 /3656419 /\n",
      "2021.11.06/1466266 /273842 /382287 /196579 /344809 /460469 /798969 /222798 /4146019 /\n",
      "2021.11.05/1582585 /272295 /381174 /163217 /305236 /438895 /800322 /217400 /4161124 /\n",
      "2021.11.04/1510453 /228608 /336763 /130991 /261527 /391852 /723259 /179342 /3762795 /\n",
      "2021.11.03/1496654 /222202 /331975 /126015 /254545 /386286 /712517 /176895 /3707089 /\n",
      "2021.11.02/1490397 /220893 /330927 /125837 /248473 /384944 /703889 /173437 /3678797 /\n",
      "2021.11.01/1489533 /227202 /340425 /129303 /254966 /386671 /707893 /178815 /3714808 /\n",
      "2021.10.31/1275984 /240082 /351486 /148767 /301414 /401192 /697578 /195613 /3612116 /\n",
      "2021.10.30/1450620 /278194 /368073 /178786 /326079 /443252 /779780 /216285 /4041069 /\n",
      "2021.10.29/1567157 /277581 /372069 /154305 /296905 /431567 /787105 /209526 /4096215 /\n",
      "2021.10.28/1527402 /237391 /338418 /130271 /260081 /392502 /726114 /179431 /3791610 /\n",
      "2021.10.27/1513692 /230640 /336154 /126194 /255223 /389632 /718135 /176775 /3746445 /\n",
      "2021.10.26/1510903 /232892 /334013 /125985 /254903 /389093 /712800 /176788 /3737377 /\n",
      "2021.10.25/1509058 /236944 /346111 /129471 /259237 /392748 /718495 /180411 /3772475 /\n",
      "2021.10.24/1267724 /243197 /347857 /140174 /284338 /389337 /685052 /185179 /3542858 /\n",
      "2021.10.23/1434712 /279665 /369507 /173713 /321989 /438204 /776744 /207574 /4002108 /\n",
      "2021.10.22/1557934 /273070 /376151 /152722 /291563 /429263 /779571 /206838 /4067112 /\n",
      "2021.10.21/1504425 /233306 /341179 /126265 /258270 /389887 /702655 /177444 /3733431 /\n",
      "2021.10.20/1498593 /229807 /333656 /123590 /250393 /385941 /705124 /174898 /3702002 /\n",
      "2021.10.19/1475252 /220091 /324191 /116491 /243416 /381254 /706587 /169194 /3636476 /\n",
      "2021.10.18/1493969 /230643 /345512 /127399 /253200 /386399 /715627 /178618 /3731367 /\n",
      "2021.10.17/1203596 /222741 /317586 /124762 /253920 /368394 /647773 /165718 /3304490 /\n",
      "2021.10.16/1400801 /259048 /340907 /150166 /276557 /390295 /665912 /190902 /3674588 /\n",
      "2021.10.15/1569843 /258915 /369130 /143757 /284854 /423668 /784426 /201583 /4036176 /\n",
      "2021.10.14/1535113 /236288 /344838 /128517 /254288 /396392 /727678 /178654 /3801768 /\n",
      "2021.10.13/1505022 /227215 /332488 /123661 /248059 /383885 /702702 /174672 /3697704 /\n",
      "2021.10.12/1497806 /225832 /329878 /117294 /236269 /361175 /683314 /172179 /3623747 /\n"
     ]
    }
   ],
   "source": [
    "import csv\n",
    "f = open(\"데이터1/고속도로통행_1.csv\", mode=\"r\", encoding=\"utf-8\")\n",
    "lines = csv.reader(f)\n",
    "\n",
    "for line in lines:\n",
    "    for x in line:\n",
    "        print(\"%s\" % x, end=\"/\")\n",
    "    print()\n",
    "\n",
    "f.close()"
   ]
  },
  {
   "cell_type": "code",
   "execution_count": 53,
   "id": "ede4f46a",
   "metadata": {},
   "outputs": [
    {
     "name": "stdout",
     "output_type": "stream",
     "text": [
      "183.00000000000003\n",
      "10일간 평균기온: 18.3\n"
     ]
    }
   ],
   "source": [
    "# 10월 1일부터 10월 10일 간 평균 기온 출력\n",
    "\n",
    "import csv\n",
    "f = open(\"데이터1/month_temp.csv\", mode=\"r\", encoding=\"utf-8\")\n",
    "lines = csv.reader(f)\n",
    "\n",
    "next(lines)\n",
    "\n",
    "hap = 0\n",
    "avg = 0\n",
    "\n",
    "for line in lines:\n",
    "    if int(line[1][8:]) <= 10:\n",
    "        hap += float(line[2])\n",
    "print(hap)\n",
    "\n",
    "avg = hap / 10\n",
    "\n",
    "print(\"10일간 평균기온: %.1f\" % avg)\n",
    "\n",
    "f.close()"
   ]
  }
 ],
 "metadata": {
  "kernelspec": {
   "display_name": "Python 3",
   "language": "python",
   "name": "python3"
  },
  "language_info": {
   "codemirror_mode": {
    "name": "ipython",
    "version": 3
   },
   "file_extension": ".py",
   "mimetype": "text/x-python",
   "name": "python",
   "nbconvert_exporter": "python",
   "pygments_lexer": "ipython3",
   "version": "3.8.8"
  }
 },
 "nbformat": 4,
 "nbformat_minor": 5
}
