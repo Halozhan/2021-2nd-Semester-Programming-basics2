{
 "cells": [
  {
   "cell_type": "markdown",
   "id": "f30c69f8",
   "metadata": {},
   "source": [
    "### int, list, dict 등도 사실 클래스입니다. 우리는 이미 클래스로 인스턴스를 만들어서 메서드를 계속 사용했습니다.   \n",
    "\n",
    "### type(객체) 를 실행하면 어떤 클래스인지 확인할 수 있습니다.  \n",
    "\n",
    "#### 사실 인스턴스와 객체는 같은 것을 뜻합니다. 보통 객체만 지칭할 때는 그냥 객체라고 부릅니다.\n",
    "#### 클래스와 연관 지어 말할 때는 인스턴스라고 부릅니다.   \n",
    "#### 리스트 변수 a,b가 있으면 a,b는 객체입니다. 그리고 a와 b는 list 클래스의 인스턴스입니다.\n"
   ]
  },
  {
   "cell_type": "code",
   "execution_count": 5,
   "id": "730021cb",
   "metadata": {},
   "outputs": [
    {
     "name": "stdout",
     "output_type": "stream",
     "text": [
      "<class 'type'> <class 'type'> <class 'type'>\n",
      "10\n",
      "[0, 1, 2, 3, 4, 5, 6, 7, 8, 9]\n",
      "{'x': 10, 'y': 20}\n",
      "[0, 1, 2, 3, 4, 5, 6, 7, 8, 9, 20]\n"
     ]
    }
   ],
   "source": [
    "print(type(int), type(list), type(dict))\n",
    "\n",
    "a = int(10)\n",
    "print(a)\n",
    "b = list(range(10))\n",
    "print(b)\n",
    "\n",
    "c = dict(x = 10, y = 20)\n",
    "print(c)\n",
    "\n",
    "b.append(20)\n",
    "print(b)"
   ]
  },
  {
   "cell_type": "code",
   "execution_count": 9,
   "id": "40ee676c",
   "metadata": {},
   "outputs": [
    {
     "name": "stdout",
     "output_type": "stream",
     "text": [
      "Hello\n",
      "Hello\n"
     ]
    }
   ],
   "source": [
    "class Person:\n",
    "    def greeting(self):\n",
    "        print(\"Hello\")\n",
    "    \n",
    "    def hello(self):\n",
    "        self.greeting() # self.메소드() 형식으로 클래스안의 메소드 호출\n",
    "        \n",
    "james = Person()\n",
    "james.greeting()\n",
    "james.hello()\n"
   ]
  },
  {
   "cell_type": "code",
   "execution_count": 18,
   "id": "840e7e60",
   "metadata": {},
   "outputs": [
    {
     "name": "stdout",
     "output_type": "stream",
     "text": [
      "10 + 20 = 30\n",
      "100 + 200 = 300\n"
     ]
    }
   ],
   "source": [
    "class Calculator:\n",
    "    def set(self, x, y):\n",
    "        self.first = x\n",
    "        self.second = y\n",
    "    def add(self):\n",
    "        return self.first + self.second\n",
    "    \n",
    "cal1 = Calculator() # 객체생성\n",
    "\n",
    "cal1.set(10, 20)\n",
    "print(\"%d + %d = %d\" % (cal1.first, cal1.second, cal1.add()))\n",
    "\n",
    "cal1.set(100, 200)\n",
    "print(\"%d + %d = %d\" % (cal1.first, cal1.second, cal1.add()))"
   ]
  },
  {
   "attachments": {
    "%ED%81%B4%EB%9E%98%EC%8A%A4%EC%86%8D%EC%84%B1.jpg": {
     "image/jpeg": "[encoded data removed]"
    }
   },
   "cell_type": "markdown",
   "id": "5f50b7c5",
   "metadata": {},
   "source": [
    "##  속성(attribute)을 만들 때는 __init__ 메서드 안에서 self.속성에 값을 할당합니다.  \n",
    "##  self.속성으로 만들어지는 것은 인스턴스 속성\n",
    "\n",
    "![%ED%81%B4%EB%9E%98%EC%8A%A4%EC%86%8D%EC%84%B1.jpg](attachment:%ED%81%B4%EB%9E%98%EC%8A%A4%EC%86%8D%EC%84%B1.jpg)\n",
    "\n",
    "__ init __ 이라는 이름 그대로 인스턴스(객체)를 초기화합니다.   \n",
    "앞뒤로 __(밑줄두개) 가 붙은 메서드는 파이썬이 자동으로 호출해주는 메서드   \n",
    "이를 스폐셜 메서드(special method) 또는 매직 메서드(magic method)라고 부릅니다.  \n",
    "\n",
    "## 클래스 안에서 속성에 접근할 때는 self.속성 형식이었습니다. \n",
    "## 클래스 바깥에서 속성에 접근할 때는 인스턴스.속성 형식으로 접근\n"
   ]
  },
  {
   "cell_type": "code",
   "execution_count": 25,
   "id": "95e7b7ae",
   "metadata": {},
   "outputs": [
    {
     "name": "stdout",
     "output_type": "stream",
     "text": [
      "안녕하세요 저는 마리아 입니다.\n",
      "이름: 마리아\n",
      "나이: 20\n",
      "주소: 서울시 서초구 반포동\n"
     ]
    }
   ],
   "source": [
    "class Person:\n",
    "    def __init__(self, name, age, address):\n",
    "        self.hello = \"안녕하세요\" # 인스턴스 속성\n",
    "        self.name = name # 인스턴스 속성\n",
    "        self.age = age # 인스턴스 속성\n",
    "        self.address = address # 인스턴스 속성\n",
    "        \n",
    "    def greeting(self):\n",
    "        print(\"{0} 저는 {1} 입니다.\" .format(self.hello, self.name)) # 클래스 안에서 속성에 접근은 self.속성\n",
    "        \n",
    "maria = Person(\"마리아\", 20, \"서울시 서초구 반포동\") # Person 괄호 안에 넣은 값이 __init__ 메서드에서 self 뒤에 있는 매개 변수가 차례대로 들어갑니다.\n",
    "maria.greeting()\n",
    "\n",
    "print(\"이름:\", maria.name)\n",
    "print(\"나이:\", maria.age)\n",
    "print(\"주소:\", maria.address)"
   ]
  },
  {
   "cell_type": "code",
   "execution_count": 27,
   "id": "7755ea9d",
   "metadata": {},
   "outputs": [
    {
     "name": "stdout",
     "output_type": "stream",
     "text": [
      "이름: 홍지수\n",
      "나이: 24\n",
      "회원번호: 1\n",
      "이름: 안지영\n",
      "나이: 24\n",
      "회원번호: 2\n"
     ]
    }
   ],
   "source": [
    "class Member:\n",
    "    def __init__(self, name, age, num):\n",
    "        self.name = name\n",
    "        self.age = age\n",
    "        self.num = num\n",
    "        \n",
    "    def showm(self):\n",
    "        print(\"이름: %s\" % self.name)\n",
    "        print(\"나이: %d\" % self.age)\n",
    "        print(\"회원번호: %s\" % self.num)\n",
    "        \n",
    "mem1 = Member(\"홍지수\", 24, 1)\n",
    "mem1.showm()\n",
    "\n",
    "mem1 = Member(\"안지영\", 24, 2)\n",
    "mem1.showm()"
   ]
  },
  {
   "cell_type": "code",
   "execution_count": 32,
   "id": "7d4e4ff9",
   "metadata": {},
   "outputs": [
    {
     "name": "stdout",
     "output_type": "stream",
     "text": [
      "110\n",
      "130\n"
     ]
    }
   ],
   "source": [
    "class Myclass:\n",
    "    num = 100\n",
    "    def inc_10(self):\n",
    "        Myclass.num += 10\n",
    "    def inc_20(self):\n",
    "        Myclass.num += 20\n",
    "        \n",
    "obj1 = Myclass()\n",
    "obj1.inc_10()\n",
    "print(obj1.num)\n",
    "\n",
    "\n",
    "obj2 = Myclass()\n",
    "obj2.inc_20()\n",
    "print(obj2.num) # 클래스 자체의 속성"
   ]
  },
  {
   "cell_type": "code",
   "execution_count": 34,
   "id": "82293736",
   "metadata": {},
   "outputs": [
    {
     "name": "stdout",
     "output_type": "stream",
     "text": [
      "110\n",
      "520\n"
     ]
    }
   ],
   "source": [
    "class Myclass:\n",
    "    def __init__(self, num):\n",
    "        self.num = num # 객체(인스턴스) 속성\n",
    "    def inc_10(self):\n",
    "        self.num += 10\n",
    "    def inc_20(self):\n",
    "        self.num += 20\n",
    "        \n",
    "obj1 = Myclass(100)\n",
    "obj1.inc_10()\n",
    "print(obj1.num)\n",
    "\n",
    "\n",
    "obj2 = Myclass(500)\n",
    "obj2.inc_20()\n",
    "print(obj2.num) # 클래스 자체의 속성"
   ]
  },
  {
   "cell_type": "code",
   "execution_count": 37,
   "id": "8092861d",
   "metadata": {},
   "outputs": [
    {
     "name": "stdout",
     "output_type": "stream",
     "text": [
      "반지름: 10\n",
      "원의 면적: 314.16\n",
      "원주의 길이: 62.83\n"
     ]
    }
   ],
   "source": [
    "import math\n",
    "class Circle:\n",
    "    def __init__(self, radius):\n",
    "        self.radius = radius\n",
    "    \n",
    "    def getArea(self):\n",
    "        area = math.pi * self.radius**2\n",
    "        return area\n",
    "    \n",
    "    def getCircum(self):\n",
    "        circum = 2 * 3.141592 * self.radius\n",
    "        return circum\n",
    "    \n",
    "cir = Circle(10)\n",
    "\n",
    "print(\"반지름: %d\" % cir.radius)\n",
    "print(\"원의 면적: %.2f\" % cir.getArea())\n",
    "print(\"원주의 길이: %.2f\" % cir.getCircum())"
   ]
  },
  {
   "cell_type": "markdown",
   "id": "d63f37bc",
   "metadata": {},
   "source": [
    "### 다음은 객체지향 방식으로 3과목 성적의 합계와 평균을 구하는 프로그램이다.\n"
   ]
  },
  {
   "cell_type": "code",
   "execution_count": 46,
   "id": "be6fe3c7",
   "metadata": {},
   "outputs": [
    {
     "name": "stdout",
     "output_type": "stream",
     "text": [
      "- 3과목 합계와 평균\n",
      "이름: 김성윤\n",
      "국어: 85, 영어: 90, 수학: 83\n",
      "합계: 258, 평균: 86.0\n"
     ]
    }
   ],
   "source": [
    "class SumAvg:\n",
    "    title = \"- 3과목 합계와 평균\"\n",
    "    \n",
    "    def __init__(self, name, kor, eng, math):\n",
    "        self.name = name\n",
    "        self.kor = kor\n",
    "        self.eng = eng\n",
    "        self.math = math\n",
    "        \n",
    "    def getSum(self):\n",
    "        total = self.kor + self.eng + self.math\n",
    "        return total\n",
    "    \n",
    "    def getAvg(self):\n",
    "        avg = self.getSum() / 3\n",
    "        return avg\n",
    "    \n",
    "s1 = SumAvg(\"김성윤\", 85, 90, 83)\n",
    "\n",
    "print(SumAvg.title)\n",
    "print(\"이름: %s\" % s1.name)\n",
    "print(\"국어: %d, 영어: %d, 수학: %d\" %  (s1.kor, s1.eng, s1.math))\n",
    "print(\"합계: %d, 평균: %.1f\" % (s1.getSum(), s1.getAvg()))"
   ]
  },
  {
   "cell_type": "markdown",
   "id": "a66fda9d",
   "metadata": {},
   "source": [
    "### 다음은 객체지향 방식으로 두수의 사칙연산을 구하는 프로그램이다.\n"
   ]
  },
  {
   "cell_type": "code",
   "execution_count": 9,
   "id": "10a0ae66",
   "metadata": {},
   "outputs": [
    {
     "name": "stdout",
     "output_type": "stream",
     "text": [
      "첫 번째 수를 입력: 40\n",
      "두 번째 수를 입력: 20\n",
      "40 + 20 = 60\n",
      "40 - 20 = 20\n",
      "40 * 20 = 800\n",
      "40 / 20 = 2\n"
     ]
    }
   ],
   "source": [
    "class Calculator:\n",
    "    def __init__(self, a, b):\n",
    "        self.a = a\n",
    "        self.b = b\n",
    "    \n",
    "    def add(self):\n",
    "        return self.a + self.b\n",
    "    \n",
    "    def sub(self):\n",
    "        return self.a - self.b\n",
    "    \n",
    "    def multiple(self):\n",
    "        return self.a * self.b\n",
    "    \n",
    "    def divide(self):\n",
    "        return self.a / self.b\n",
    "\n",
    "\n",
    "a = int(input(\"첫 번째 수를 입력: \"))\n",
    "b = int(input(\"두 번째 수를 입력: \"))\n",
    "\n",
    "n1 = Calculator(a, b)\n",
    "print(\"%d + %d = %d\" % (a, b, n1.add()))\n",
    "print(\"%d - %d = %d\" % (a, b, n1.sub()))\n",
    "print(\"%d * %d = %d\" % (a, b, n1.multiple()))\n",
    "print(\"%d / %d = %d\" % (a, b, n1.divide()))"
   ]
  },
  {
   "cell_type": "markdown",
   "id": "ec2a7dd2",
   "metadata": {},
   "source": [
    "### 다음은 객체지향 방식으로  생성자의 매개변수로 리스트를 사용하는 프로그램이다.\n"
   ]
  },
  {
   "cell_type": "code",
   "execution_count": 13,
   "id": "53aba314",
   "metadata": {},
   "outputs": [
    {
     "name": "stdout",
     "output_type": "stream",
     "text": [
      "성명 : 김지혜\n",
      "이메일 : rubato@hanmail.net\n",
      "전화번호 : 010-1234-4567\n"
     ]
    }
   ],
   "source": [
    "class Person:\n",
    "    def __init__(self, info):\n",
    "        self.info = info\n",
    "    \n",
    "    def getName(self):\n",
    "        return self.info[0]\n",
    "    \n",
    "    def getMail(self):\n",
    "        return self.info[1]\n",
    "    \n",
    "    def getPhonenum(self):\n",
    "        return self.info[2]\n",
    "    \n",
    "lst = [\"김지혜\",'rubato@hanmail.net', '010-1234-4567']\n",
    "p1 = Person(lst)\n",
    "\n",
    "print(\"성명 : %s\" % p1.getName())\n",
    "print(\"이메일 : %s\" % p1.getMail())\n",
    "print(\"전화번호 : %s\" % p1.getPhonenum())"
   ]
  },
  {
   "cell_type": "code",
   "execution_count": 15,
   "id": "0debeb3c",
   "metadata": {},
   "outputs": [
    {
     "name": "stdout",
     "output_type": "stream",
     "text": [
      "성명 : 김지혜\n",
      "이메일 : rubato@hanmail.net\n",
      "전화번호 : 010-1234-4567\n",
      "성명 : 김지혜\n",
      "이메일 : rubato@hanmail.net\n",
      "전화번호 : 010-1234-4567\n"
     ]
    }
   ],
   "source": [
    "class Person:\n",
    "    def __init__(self, info):\n",
    "        self.name = info[\"name\"]\n",
    "        self.mail = info[\"mail\"]\n",
    "        self.phone = info[\"phone\"]\n",
    "        \n",
    "    def getName(self):\n",
    "        return self.name\n",
    "    \n",
    "    def getMail(self):\n",
    "        return self.mail\n",
    "    \n",
    "    def getPhonenum(self):\n",
    "        return self.phone\n",
    "\n",
    "dic = {\"name\":'김지혜', \"mail\":'rubato@hanmail.net', \"phone\":'010-1234-4567'}\n",
    "\n",
    "p1 = Person(dic)\n",
    "\n",
    "print(\"성명 : %s\" % p1.getName())\n",
    "print(\"이메일 : %s\" % p1.getMail())\n",
    "print(\"전화번호 : %s\" % p1.getPhonenum())\n",
    "\n",
    "print(\"성명 : %s\" % p1.name)\n",
    "print(\"이메일 : %s\" % p1.mail)\n",
    "print(\"전화번호 : %s\" % p1.phone)"
   ]
  }
 ],
 "metadata": {
  "kernelspec": {
   "display_name": "Python 3",
   "language": "python",
   "name": "python3"
  },
  "language_info": {
   "codemirror_mode": {
    "name": "ipython",
    "version": 3
   },
   "file_extension": ".py",
   "mimetype": "text/x-python",
   "name": "python",
   "nbconvert_exporter": "python",
   "pygments_lexer": "ipython3",
   "version": "3.8.8"
  }
 },
 "nbformat": 4,
 "nbformat_minor": 5
}
