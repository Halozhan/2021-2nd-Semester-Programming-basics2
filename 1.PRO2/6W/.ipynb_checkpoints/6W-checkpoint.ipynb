{
 "cells": [
  {
   "cell_type": "code",
   "execution_count": 7,
   "id": "b8cbb1e1",
   "metadata": {},
   "outputs": [
    {
     "name": "stdout",
     "output_type": "stream",
     "text": [
      "파일쓰기완료\n"
     ]
    }
   ],
   "source": [
    "file = open(\"sample1.txt\", mode=\"w\", encoding=\"utf8\")\n",
    "file.write(\"황주원, 선문대학교\")\n",
    "file.close()\n",
    "print(\"파일쓰기완료\")"
   ]
  },
  {
   "cell_type": "code",
   "execution_count": 9,
   "id": "5f4bc35c",
   "metadata": {},
   "outputs": [
    {
     "name": "stdout",
     "output_type": "stream",
     "text": [
      "김소영 82 80 93 97 93 88\n",
      "정예린 86 100 93 86 90 77\n",
      "이세영 91 88 99 79 92 68\n",
      "정수정 86 100 93 89 92 93\n",
      "박지수 80 100 95 89 90 84\n",
      "\n"
     ]
    }
   ],
   "source": [
    "scores = ['김소영 82 80 93 97 93 88',\n",
    "           '정예린 86 100 93 86 90 77',\n",
    "           '이세영 91 88 99 79 92 68',\n",
    "           '정수정 86 100 93 89 92 93',\n",
    "           '박지수 80 100 95 89 90 84']\n",
    "\n",
    "data = \"\"\n",
    "for i in scores:\n",
    "    data += i + \"\\n\"\n",
    "\n",
    "print(data)\n",
    "\n",
    "file = open('scores.txt', mode=\"w\", encoding=\"utf8\")\n",
    "file.write(data)\n",
    "file.close()"
   ]
  },
  {
   "cell_type": "code",
   "execution_count": 32,
   "id": "d3ade7e8",
   "metadata": {},
   "outputs": [
    {
     "name": "stdout",
     "output_type": "stream",
     "text": [
      "김소영 82 80 93 97 93 88\n",
      "정예린 86 100 93 86 90 77\n",
      "이세영 91 88 99 79 92 68\n",
      "정수정 86 100 93 89 92 93\n",
      "박지수 80 100 95 89 90 84\n"
     ]
    }
   ],
   "source": [
    "file = open('scores.txt', mode=\"r\", encoding=\"utf8\")\n",
    "lines = file.readlines()\n",
    "\n",
    "for i in lines:\n",
    "    print(i, end=\"\")\n",
    "file.close()"
   ]
  },
  {
   "cell_type": "code",
   "execution_count": 3,
   "id": "5abc0885",
   "metadata": {},
   "outputs": [
    {
     "name": "stdout",
     "output_type": "stream",
     "text": [
      "오렌지에 맞는 영어 단어는?orange\n",
      "맞습니다.\n",
      "과자에 맞는 영어 단어는?cookies\n",
      "틀렸습니다.\n",
      "어머니에 맞는 영어 단어는?mother\n",
      "맞습니다.\n",
      "형제에 맞는 영어 단어는?brother\n",
      "맞습니다.\n",
      "파이썬에 맞는 영어 단어는?python\n",
      "맞습니다.\n"
     ]
    }
   ],
   "source": [
    "def match_word(word, answer):\n",
    "    if word == answer:\n",
    "        msg = \"맞습니다.\"\n",
    "    else:\n",
    "        msg = \"틀렸습니다.\"\n",
    "    return msg\n",
    "\n",
    "eng_dict = {'orange':'오렌지', 'cookie':'과자', 'mother':'어머니', 'brother':'형제', 'python':'파이썬'}\n",
    "\n",
    "for key in eng_dict:\n",
    "    string = input(eng_dict[key] + \"에 맞는 영어 단어는?\")\n",
    "    print(match_word(key, string))"
   ]
  },
  {
   "cell_type": "code",
   "execution_count": 5,
   "id": "155fa7a4",
   "metadata": {},
   "outputs": [
    {
     "name": "stdout",
     "output_type": "stream",
     "text": [
      "첫 번째 수를 입력:3\n",
      "두 번째 수를 입력:45\n",
      "세 번째 수를 입력:3\n",
      "45가 제일 큰 수입니다.\n"
     ]
    }
   ],
   "source": [
    "def max2(i, j):\n",
    "    if i > j:\n",
    "        return i\n",
    "    else:\n",
    "        return j\n",
    "    \n",
    "def max3(x, y, z):\n",
    "    mx1 = max2(x, y)\n",
    "    mx2 = max2(y, z)\n",
    "    return max2(mx1, mx2)\n",
    "\n",
    "a = int(input(\"첫 번째 수를 입력:\"))\n",
    "b = int(input(\"두 번째 수를 입력:\"))\n",
    "c = int(input(\"세 번째 수를 입력:\"))\n",
    "print(\"%d가 제일 큰 수입니다.\" % max3(a, b, c))"
   ]
  },
  {
   "cell_type": "code",
   "execution_count": 7,
   "id": "0fe76890",
   "metadata": {},
   "outputs": [
    {
     "name": "stdout",
     "output_type": "stream",
     "text": [
      "--------------------------------------------------\n",
      "김소영\n",
      "합계 : 445, 평균 : 89.00\n",
      "--------------------------------------------------\n",
      "정예린\n",
      "합계 : 455, 평균 : 91.00\n",
      "--------------------------------------------------\n",
      "이세영\n",
      "합계 : 449, 평균 : 89.80\n",
      "--------------------------------------------------\n",
      "정수정\n",
      "합계 : 460, 평균 : 92.00\n",
      "--------------------------------------------------\n",
      "박지수\n",
      "합계 : 454, 평균 : 90.80\n",
      "--------------------------------------------------\n"
     ]
    }
   ],
   "source": [
    "file = open('scores.txt', mode=\"r\", encoding=\"utf8\")\n",
    "lines = file.readlines()\n",
    "file.close()\n",
    "\n",
    "print(\"-\"*50)\n",
    "for line in lines:\n",
    "    st = line.split()\n",
    "    \n",
    "    hap = 0\n",
    "    i = 0\n",
    "    while i < len(lines)+1:\n",
    "        if i == 0:\n",
    "            print(st[i])\n",
    "        else:\n",
    "            hap += (int)(st[i])\n",
    "        i += 1\n",
    "    print(\"합계 : %d, 평균 : %.2f\" % (hap, hap / len(lines)))\n",
    "    print(\"-\"*50)\n",
    "    "
   ]
  },
  {
   "cell_type": "code",
   "execution_count": 6,
   "id": "6e31dc3d",
   "metadata": {},
   "outputs": [
    {
     "name": "stdout",
     "output_type": "stream",
     "text": [
      "['Python', 'is', 'fun']\n"
     ]
    }
   ],
   "source": [
    "txt = \"Python is fun\"\n",
    "x = txt.split()\n",
    "print(x)"
   ]
  },
  {
   "cell_type": "markdown",
   "id": "48dbbe2d",
   "metadata": {},
   "source": [
    "### 모듈(module)  \n",
    "\n",
    "보통 하나의 파이썬 .py 파일이 하나의 모듈이 된다. \n",
    "여러 개의 함수나 클래스, 변수를 정의한 코드 모음  \n",
    "파이썬 패키지 안에 포함(표준 모듈), 사용자가 직접 만들면(사용자 생성 모듈), 협력업체나 개인 만들어서 제공하면( 서드파티(Third party) 모듈   \n",
    "\n",
    "라이브러리 : 모듈과 패키지의 모음, zip파일로 압축되어 PyPI사이트를 통해 배포  \n",
    " PyPI(Python Package Index): 개발된 파이썬 패키지를 공유하는 사이트(http://pypi.org)\n"
   ]
  },
  {
   "cell_type": "code",
   "execution_count": 16,
   "id": "48343749",
   "metadata": {},
   "outputs": [],
   "source": [
    "def hello1(name):\n",
    "    x = \"%s 님 안녕하세요\" % name\n",
    "    return x\n",
    "\n",
    "def hello2(name):\n",
    "    x = \"%s 님 반갑습니다.\" % name\n",
    "    return x\n",
    "\n",
    "def hello3(name):\n",
    "    x = \"%s 님 만나서 반갑습니다.\" % name\n",
    "    return x"
   ]
  },
  {
   "cell_type": "code",
   "execution_count": 1,
   "id": "85f9b204",
   "metadata": {},
   "outputs": [
    {
     "name": "stdout",
     "output_type": "stream",
     "text": [
      "안지수 님 안녕하세요\n",
      "안지수 님 반갑습니다.\n",
      "안지수 님 만나서 반갑습니다.\n"
     ]
    }
   ],
   "source": [
    "import greet\n",
    "print(greet.hello1(\"안지수\"))\n",
    "print(greet.hello2(\"안지수\"))\n",
    "print(greet.hello3(\"안지수\"))"
   ]
  }
 ],
 "metadata": {
  "kernelspec": {
   "display_name": "Python 3",
   "language": "python",
   "name": "python3"
  },
  "language_info": {
   "codemirror_mode": {
    "name": "ipython",
    "version": 3
   },
   "file_extension": ".py",
   "mimetype": "text/x-python",
   "name": "python",
   "nbconvert_exporter": "python",
   "pygments_lexer": "ipython3",
   "version": "3.8.8"
  }
 },
 "nbformat": 4,
 "nbformat_minor": 5
}
