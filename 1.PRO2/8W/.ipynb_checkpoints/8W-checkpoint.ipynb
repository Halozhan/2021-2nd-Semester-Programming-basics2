{
 "cells": [
  {
   "cell_type": "markdown",
   "id": "155c7118",
   "metadata": {},
   "source": [
    "모듈(module)  \n",
    "\n",
    "보통 하나의 파이썬 .py 파일이 하나의 모듈이 된다. \n",
    "여러 개의 함수나 클래스, 변수를 정의한 코드 모음  \n",
    "파이썬 패키지 안에 포함(표준 모듈), 사용자가 직접 만들면(사용자 생성 모듈), 협력업체나 개인 만들어서 제공하면( 서드파티(Third party) 모듈   \n",
    "\n",
    "라이브러리 : 모듈과 패키지의 모음, zip파이로 압축되어 PyPI사이트를 통해 배포  \n",
    " PyPI(Python Package Index): 개발된 파이썬 패키지를 공유하는 사이트(http://pypi.org)\n"
   ]
  },
  {
   "cell_type": "code",
   "execution_count": 1,
   "id": "3f6164e8",
   "metadata": {},
   "outputs": [
    {
     "name": "stdout",
     "output_type": "stream",
     "text": [
      "Package                            Version\n",
      "---------------------------------- -------------------\n",
      "alabaster                          0.7.12\n",
      "anaconda-client                    1.7.2\n",
      "anaconda-navigator                 2.0.3\n",
      "anaconda-project                   0.9.1\n",
      "anyio                              2.2.0\n",
      "appdirs                            1.4.4\n",
      "argh                               0.26.2\n",
      "argon2-cffi                        20.1.0\n",
      "asn1crypto                         1.4.0\n",
      "astroid                            2.5\n",
      "astropy                            4.2.1\n",
      "async-generator                    1.10\n",
      "atomicwrites                       1.4.0\n",
      "attrs                              20.3.0\n",
      "autopep8                           1.5.6\n",
      "Babel                              2.9.0\n",
      "backcall                           0.2.0\n",
      "backports.functools-lru-cache      1.6.4\n",
      "backports.shutil-get-terminal-size 1.0.0\n",
      "backports.tempfile                 1.0\n",
      "backports.weakref                  1.0.post1\n",
      "bcrypt                             3.2.0\n",
      "beautifulsoup4                     4.9.3\n",
      "bitarray                           1.9.2\n",
      "bkcharts                           0.2\n",
      "black                              19.10b0\n",
      "bleach                             3.3.0\n",
      "bokeh                              2.3.2\n",
      "boto                               2.49.0\n",
      "Bottleneck                         1.3.2\n",
      "brotlipy                           0.7.0\n",
      "certifi                            2020.12.5\n",
      "cffi                               1.14.5\n",
      "chardet                            4.0.0\n",
      "click                              7.1.2\n",
      "cloudpickle                        1.6.0\n",
      "clyent                             1.2.2\n",
      "colorama                           0.4.4\n",
      "comtypes                           1.1.9\n",
      "conda                              4.10.1\n",
      "conda-build                        3.21.4\n",
      "conda-content-trust                0+unknown\n",
      "conda-package-handling             1.7.3\n",
      "conda-repo-cli                     1.0.4\n",
      "conda-token                        0.3.0\n",
      "conda-verify                       3.4.2\n",
      "contextlib2                        0.6.0.post1\n",
      "cryptography                       3.4.7\n",
      "cycler                             0.10.0\n",
      "Cython                             0.29.23\n",
      "cytoolz                            0.11.0\n",
      "dask                               2021.4.0\n",
      "decorator                          5.0.6\n",
      "defusedxml                         0.7.1\n",
      "diff-match-patch                   20200713\n",
      "distributed                        2021.4.0\n",
      "docutils                           0.17\n",
      "entrypoints                        0.3\n",
      "et-xmlfile                         1.0.1\n",
      "fastcache                          1.1.0\n",
      "filelock                           3.0.12\n",
      "flake8                             3.9.0\n",
      "Flask                              1.1.2\n",
      "fsspec                             0.9.0\n",
      "future                             0.18.2\n",
      "gevent                             21.1.2\n",
      "glob2                              0.7\n",
      "greenlet                           1.0.0\n",
      "h5py                               2.10.0\n",
      "HeapDict                           1.0.1\n",
      "html5lib                           1.1\n",
      "idna                               2.10\n",
      "imagecodecs                        2021.3.31\n",
      "imageio                            2.9.0\n",
      "imagesize                          1.2.0\n",
      "importlib-metadata                 3.10.0\n",
      "iniconfig                          1.1.1\n",
      "intervaltree                       3.1.0\n",
      "ipykernel                          5.3.4\n",
      "ipython                            7.22.0\n",
      "ipython-genutils                   0.2.0\n",
      "ipywidgets                         7.6.3\n",
      "isort                              5.8.0\n",
      "itsdangerous                       1.1.0\n",
      "jdcal                              1.4.1\n",
      "jedi                               0.17.2\n",
      "Jinja2                             2.11.3\n",
      "joblib                             1.0.1\n",
      "json5                              0.9.5\n",
      "jsonschema                         3.2.0\n",
      "jupyter                            1.0.0\n",
      "jupyter-client                     6.1.12\n",
      "jupyter-console                    6.4.0\n",
      "jupyter-core                       4.7.1\n",
      "jupyter-packaging                  0.7.12\n",
      "jupyter-server                     1.4.1\n",
      "jupyterlab                         3.0.14\n",
      "jupyterlab-pygments                0.1.2\n",
      "jupyterlab-server                  2.4.0\n",
      "jupyterlab-widgets                 1.0.0\n",
      "keyring                            22.3.0\n",
      "kiwisolver                         1.3.1\n",
      "lazy-object-proxy                  1.6.0\n",
      "libarchive-c                       2.9\n",
      "llvmlite                           0.36.0\n",
      "locket                             0.2.1\n",
      "lxml                               4.6.3\n",
      "MarkupSafe                         1.1.1\n",
      "matplotlib                         3.3.4\n",
      "mccabe                             0.6.1\n",
      "menuinst                           1.4.16\n",
      "mistune                            0.8.4\n",
      "mkl-fft                            1.3.0\n",
      "mkl-random                         1.2.1\n",
      "mkl-service                        2.3.0\n",
      "mock                               4.0.3\n",
      "more-itertools                     8.7.0\n",
      "mpmath                             1.2.1\n",
      "msgpack                            1.0.2\n",
      "multipledispatch                   0.6.0\n",
      "mypy-extensions                    0.4.3\n",
      "navigator-updater                  0.2.1\n",
      "nbclassic                          0.2.6\n",
      "nbclient                           0.5.3\n",
      "nbconvert                          6.0.7\n",
      "nbformat                           5.1.3\n",
      "nest-asyncio                       1.5.1\n",
      "networkx                           2.5\n",
      "nltk                               3.6.1\n",
      "nose                               1.3.7\n",
      "notebook                           6.3.0\n",
      "numba                              0.53.1\n",
      "numexpr                            2.7.3\n",
      "numpy                              1.20.1\n",
      "numpydoc                           1.1.0\n",
      "olefile                            0.46\n",
      "openpyxl                           3.0.7\n",
      "packaging                          20.9\n",
      "pandas                             1.2.4\n",
      "pandocfilters                      1.4.3\n",
      "paramiko                           2.7.2\n",
      "parso                              0.7.0\n",
      "partd                              1.2.0\n",
      "path                               15.1.2\n",
      "pathlib2                           2.3.5\n",
      "pathspec                           0.7.0\n",
      "patsy                              0.5.1\n",
      "pep8                               1.7.1\n",
      "pexpect                            4.8.0\n",
      "pickleshare                        0.7.5\n",
      "Pillow                             8.2.0\n",
      "pip                                21.0.1\n",
      "pkginfo                            1.7.0\n",
      "pluggy                             0.13.1\n",
      "ply                                3.11\n",
      "prometheus-client                  0.10.1\n",
      "prompt-toolkit                     3.0.17\n",
      "psutil                             5.8.0\n",
      "ptyprocess                         0.7.0\n",
      "py                                 1.10.0\n",
      "pycodestyle                        2.6.0\n",
      "pycosat                            0.6.3\n",
      "pycparser                          2.20\n",
      "pycurl                             7.43.0.6\n",
      "pydocstyle                         6.0.0\n",
      "pyerfa                             1.7.3\n",
      "pyflakes                           2.2.0\n",
      "Pygments                           2.8.1\n",
      "pylint                             2.7.4\n",
      "pyls-black                         0.4.6\n",
      "pyls-spyder                        0.3.2\n",
      "PyNaCl                             1.4.0\n",
      "pyodbc                             4.0.0-unsupported\n",
      "pyOpenSSL                          20.0.1\n",
      "pyparsing                          2.4.7\n",
      "pyreadline                         2.1\n",
      "pyrsistent                         0.17.3\n",
      "PySocks                            1.7.1\n",
      "pytest                             6.2.3\n",
      "python-dateutil                    2.8.1\n",
      "python-jsonrpc-server              0.4.0\n",
      "python-language-server             0.36.2\n",
      "pytz                               2021.1\n",
      "PyWavelets                         1.1.1\n",
      "pywin32                            227\n",
      "pywin32-ctypes                     0.2.0\n",
      "pywinpty                           0.5.7\n",
      "PyYAML                             5.4.1\n",
      "pyzmq                              20.0.0\n",
      "QDarkStyle                         2.8.1\n",
      "QtAwesome                          1.0.2\n",
      "qtconsole                          5.0.3\n",
      "QtPy                               1.9.0\n",
      "regex                              2021.4.4\n",
      "requests                           2.25.1\n",
      "rope                               0.18.0\n",
      "Rtree                              0.9.7\n",
      "ruamel-yaml-conda                  0.15.100\n",
      "scikit-image                       0.18.1\n",
      "scikit-learn                       0.24.1\n",
      "scipy                              1.6.2\n",
      "seaborn                            0.11.1\n",
      "Send2Trash                         1.5.0\n",
      "setuptools                         52.0.0.post20210125\n",
      "simplegeneric                      0.8.1\n",
      "singledispatch                     0.0.0\n",
      "sip                                4.19.13\n",
      "six                                1.15.0\n",
      "sniffio                            1.2.0\n",
      "snowballstemmer                    2.1.0\n",
      "sortedcollections                  2.1.0\n",
      "sortedcontainers                   2.3.0\n",
      "soupsieve                          2.2.1\n",
      "Sphinx                             4.0.1\n",
      "sphinxcontrib-applehelp            1.0.2\n",
      "sphinxcontrib-devhelp              1.0.2\n",
      "sphinxcontrib-htmlhelp             1.0.3\n",
      "sphinxcontrib-jsmath               1.0.1\n",
      "sphinxcontrib-qthelp               1.0.3\n",
      "sphinxcontrib-serializinghtml      1.1.4\n",
      "sphinxcontrib-websupport           1.2.4\n",
      "spyder                             4.2.5\n",
      "spyder-kernels                     1.10.2\n",
      "SQLAlchemy                         1.4.7\n",
      "statsmodels                        0.12.2\n",
      "sympy                              1.8\n",
      "tables                             3.6.1\n",
      "tblib                              1.7.0\n",
      "terminado                          0.9.4\n",
      "testpath                           0.4.4\n",
      "textdistance                       4.2.1\n",
      "threadpoolctl                      2.1.0\n",
      "three-merge                        0.1.1\n",
      "tifffile                           2021.4.8\n",
      "toml                               0.10.2\n",
      "toolz                              0.11.1\n",
      "tornado                            6.1\n",
      "tqdm                               4.59.0\n",
      "traitlets                          5.0.5\n",
      "typed-ast                          1.4.2\n",
      "typing-extensions                  3.7.4.3\n",
      "ujson                              4.0.2\n",
      "unicodecsv                         0.14.1\n",
      "urllib3                            1.26.4\n",
      "watchdog                           1.0.2\n",
      "wcwidth                            0.2.5\n",
      "webencodings                       0.5.1\n",
      "Werkzeug                           1.0.1\n",
      "wheel                              0.36.2\n",
      "widgetsnbextension                 3.5.1\n",
      "win-inet-pton                      1.1.0\n",
      "win-unicode-console                0.5\n",
      "wincertstore                       0.2\n",
      "wrapt                              1.12.1\n",
      "xlrd                               2.0.1\n",
      "XlsxWriter                         1.3.8\n",
      "xlwings                            0.23.0\n",
      "xlwt                               1.3.0\n",
      "xmltodict                          0.12.0\n",
      "yapf                               0.31.0\n",
      "zict                               2.0.0\n",
      "zipp                               3.4.1\n",
      "zope.event                         4.5.0\n",
      "zope.interface                     5.3.0\n"
     ]
    }
   ],
   "source": [
    "!pip list"
   ]
  },
  {
   "cell_type": "code",
   "execution_count": 5,
   "id": "17fdbe44",
   "metadata": {},
   "outputs": [
    {
     "data": {
      "text/plain": [
       "4"
      ]
     },
     "execution_count": 5,
     "metadata": {},
     "output_type": "execute_result"
    }
   ],
   "source": [
    "import math\n",
    "\n",
    "math.ceil(3.4) #올림"
   ]
  },
  {
   "cell_type": "code",
   "execution_count": 19,
   "id": "089ba324",
   "metadata": {},
   "outputs": [
    {
     "name": "stdout",
     "output_type": "stream",
     "text": [
      "황주원 님 안녕하세요\n",
      "10.0\n",
      "황주원 님 안녕하세요\n",
      "5.0\n",
      "황주원 님 만나서 반갑습니다.\n",
      "5.0\n",
      "황주원 님 반갑습니다.\n",
      "5.0 0.8414709848078965\n"
     ]
    }
   ],
   "source": [
    "import greet\n",
    "import math\n",
    "\n",
    "print(greet.hello1(\"황주원\"))\n",
    "print(math.sqrt(100))\n",
    "\n",
    "import greet as g\n",
    "import math as m\n",
    "\n",
    "print(g.hello1(\"황주원\"))\n",
    "print(m.sqrt(25))\n",
    "\n",
    "from greet import hello3\n",
    "from math import sqrt\n",
    "\n",
    "print(hello3(\"황주원\"))\n",
    "print(sqrt(25))\n",
    "\n",
    "from greet import *\n",
    "from math import *\n",
    "print(hello2(\"황주원\"))\n",
    "print(sqrt(25),sin(1))"
   ]
  },
  {
   "cell_type": "code",
   "execution_count": 22,
   "id": "529eba94",
   "metadata": {},
   "outputs": [
    {
     "name": "stdout",
     "output_type": "stream",
     "text": [
      "floor(7.7) : 7\n",
      "ceil(10.1) : 11\n",
      "5 팩토리얼 : 120\n"
     ]
    }
   ],
   "source": [
    "import math\n",
    "\n",
    "print(\"floor(7.7) : %d\" % math.floor(7.7))\n",
    "print(\"ceil(10.1) : %d\" % math.ceil(10.1))\n",
    "\n",
    "print(\"5 팩토리얼 : %d\" % math.factorial(5))"
   ]
  },
  {
   "cell_type": "code",
   "execution_count": 30,
   "id": "def92227",
   "metadata": {},
   "outputs": [
    {
     "name": "stdout",
     "output_type": "stream",
     "text": [
      "sin(pi/2) : 1.00\n",
      "cos(pi/2) : 0.00\n",
      "tan(pi/2) : 16331239353195370.00\n",
      "log10(100) : 2.00\n"
     ]
    }
   ],
   "source": [
    "import math as m\n",
    "\n",
    "print(\"sin(pi/2) : %.2f\" % m.sin(pi/2))\n",
    "print(\"cos(pi/2) : %.2f\" % m.cos(pi/2))\n",
    "print(\"tan(pi/2) : %.2f\" % m.tan(pi/2))\n",
    "print(\"log10(100) : %.2f\" % m.log10(100))"
   ]
  },
  {
   "cell_type": "code",
   "execution_count": 35,
   "id": "9ed9cceb",
   "metadata": {},
   "outputs": [
    {
     "name": "stdout",
     "output_type": "stream",
     "text": [
      "7\n",
      "9\n",
      "9\n",
      "7\n",
      "7\n"
     ]
    }
   ],
   "source": [
    "import random\n",
    "for i in range(5):\n",
    "    print(random.randrange(1, 11, 2))"
   ]
  },
  {
   "cell_type": "code",
   "execution_count": 36,
   "id": "2046d775",
   "metadata": {},
   "outputs": [
    {
     "name": "stdout",
     "output_type": "stream",
     "text": [
      "45\n",
      "36\n",
      "40\n",
      "12\n",
      "27\n",
      "8\n"
     ]
    }
   ],
   "source": [
    "import random\n",
    "for i in range(6):\n",
    "    print(random.randint(1, 45))"
   ]
  },
  {
   "cell_type": "code",
   "execution_count": 43,
   "id": "3eafa826",
   "metadata": {},
   "outputs": [
    {
     "name": "stdout",
     "output_type": "stream",
     "text": [
      "바위\n",
      "바위\n",
      "바위\n"
     ]
    }
   ],
   "source": [
    "import random\n",
    "toss = [\"가위\", \"바위\", \"보\"]\n",
    "for i in range(3):\n",
    "    print(random.choice(toss))"
   ]
  },
  {
   "cell_type": "code",
   "execution_count": 46,
   "id": "6c7efd10",
   "metadata": {},
   "outputs": [
    {
     "name": "stdout",
     "output_type": "stream",
     "text": [
      "None\n",
      "['딸기', '귤', '바나나', '수박', '배']\n",
      "None\n",
      "['바나나', '딸기', '수박', '귤', '배']\n",
      "None\n",
      "['수박', '배', '귤', '바나나', '딸기']\n"
     ]
    }
   ],
   "source": [
    "import random\n",
    "fruits = [\"딸기\", \"배\", \"귤\", \"바나나\", \"수박\"]\n",
    "for i in range(3):\n",
    "    print(random.shuffle(fruits)) # 리스트, 튜플, 문자열에 사용\n",
    "    print(fruits)"
   ]
  },
  {
   "cell_type": "code",
   "execution_count": 2,
   "id": "1db8840e",
   "metadata": {},
   "outputs": [
    {
     "name": "stdout",
     "output_type": "stream",
     "text": [
      "------------------------------\n",
      "주사위 던지기 : 1번째\n",
      "나 : 2\n",
      "컴퓨터 : 1\n",
      "나의 승리\n",
      "계속하려면 y를 입력~y\n",
      "------------------------------\n",
      "주사위 던지기 : 2번째\n",
      "나 : 6\n",
      "컴퓨터 : 1\n",
      "나의 승리\n",
      "계속하려면 y를 입력~y\n",
      "------------------------------\n",
      "주사위 던지기 : 3번째\n",
      "나 : 4\n",
      "컴퓨터 : 5\n",
      "컴퓨터의 승리\n",
      "계속하려면 y를 입력~y\n",
      "------------------------------\n",
      "주사위 던지기 : 4번째\n",
      "나 : 5\n",
      "컴퓨터 : 1\n",
      "나의 승리\n",
      "계속하려면 y를 입력~y\n",
      "------------------------------\n",
      "주사위 던지기 : 5번째\n",
      "나 : 1\n",
      "컴퓨터 : 4\n",
      "컴퓨터의 승리\n",
      "계속하려면 y를 입력~\n"
     ]
    }
   ],
   "source": [
    "import random\n",
    "\n",
    "again = \"y\"\n",
    "cnt = 1\n",
    "\n",
    "while again == \"y\":\n",
    "    print(\"-\"* 30)\n",
    "    print(\"주사위 던지기 : %d번째\" % cnt)\n",
    "    me = random.randint(1,6)\n",
    "    pc = random.randint(1,6)\n",
    "    print(\"나 : %d\" % me)\n",
    "    print(\"컴퓨터 : %d\" % pc)\n",
    "\n",
    "    if me > pc:\n",
    "        print(\"나의 승리\")\n",
    "    elif me == pc:\n",
    "        print(\"무승부\")\n",
    "    else:\n",
    "        print(\"컴퓨터의 승리\")\n",
    "        \n",
    "    again = input(\"계속하려면 y를 입력~\")\n",
    "    cnt += 1"
   ]
  },
  {
   "cell_type": "code",
   "execution_count": 27,
   "id": "cf84e974",
   "metadata": {},
   "outputs": [
    {
     "name": "stdout",
     "output_type": "stream",
     "text": [
      "년 : 2021 월 : 11 일 : 2\n",
      "시 : 17 분 : 19 초 : 5\n",
      "2021/11/02 - 17:19:05\n",
      "2021-11-02 - 17h19m05s\n"
     ]
    }
   ],
   "source": [
    "from datetime import datetime\n",
    "today = datetime.now()\n",
    "\n",
    "print(\"년 : %s 월 : %s 일 : %s\" % (today.year, today.month, today.day))\n",
    "print(\"시 : %s 분 : %s 초 : %s\" % (today.hour, today.minute, today.second))\n",
    "\n",
    "print(today.strftime(\"%Y/%m/%d - %H:%M:%S\"))\n",
    "print(today.strftime(\"%Y-%m-%d - %Hh%Mm%Ss\"))"
   ]
  },
  {
   "cell_type": "markdown",
   "id": "09024280",
   "metadata": {},
   "source": [
    "## 객체지향프로그래밍  \n",
    "객체 : 클래스로부터 생성되어 클래스의 속성과 메소드를 가짐  \n",
    "클래스 : 객체에서 사용되는 속성과 메소드를 정의한 틀    \n",
    "속성 : 클래스와 객체에서 사용되는 변수  \n",
    "메소드 : 클래스와 객체에서 사용되는 함수\n",
    "\n",
    "## 클래스명의 첫글자는 대문자\n"
   ]
  },
  {
   "cell_type": "code",
   "execution_count": 31,
   "id": "146a622b",
   "metadata": {},
   "outputs": [
    {
     "ename": "TypeError",
     "evalue": "say_a() takes 0 positional arguments but 1 was given",
     "output_type": "error",
     "traceback": [
      "\u001b[1;31m---------------------------------------------------------------------------\u001b[0m",
      "\u001b[1;31mTypeError\u001b[0m                                 Traceback (most recent call last)",
      "\u001b[1;32m<ipython-input-31-f5c5188af5fe>\u001b[0m in \u001b[0;36m<module>\u001b[1;34m\u001b[0m\n\u001b[0;32m      4\u001b[0m \u001b[1;33m\u001b[0m\u001b[0m\n\u001b[0;32m      5\u001b[0m \u001b[0ma\u001b[0m \u001b[1;33m=\u001b[0m \u001b[0mA\u001b[0m\u001b[1;33m(\u001b[0m\u001b[1;33m)\u001b[0m \u001b[1;31m# 인스턴스화 (객체)\u001b[0m\u001b[1;33m\u001b[0m\u001b[1;33m\u001b[0m\u001b[0m\n\u001b[1;32m----> 6\u001b[1;33m \u001b[0ma\u001b[0m\u001b[1;33m.\u001b[0m\u001b[0msay_a\u001b[0m\u001b[1;33m(\u001b[0m\u001b[1;33m)\u001b[0m \u001b[1;31m# a 객체(인스턴스) 뒤에 .을 붙이고 메소드 호출\u001b[0m\u001b[1;33m\u001b[0m\u001b[1;33m\u001b[0m\u001b[0m\n\u001b[0m\u001b[0;32m      7\u001b[0m \u001b[1;33m\u001b[0m\u001b[0m\n\u001b[0;32m      8\u001b[0m \u001b[1;31m#오류가 나는 것은 파이썬 인터프리터가 자동으로 메소드를 호출할 때 인자를 넣어버리기 때문\u001b[0m\u001b[1;33m\u001b[0m\u001b[1;33m\u001b[0m\u001b[1;33m\u001b[0m\u001b[0m\n",
      "\u001b[1;31mTypeError\u001b[0m: say_a() takes 0 positional arguments but 1 was given"
     ]
    }
   ],
   "source": [
    "class A:\n",
    "    def say_a(): # 메소드\n",
    "        print(\"a\")\n",
    "        \n",
    "a = A() # 인스턴스화 (객체)\n",
    "a.say_a() # a 객체(인스턴스) 뒤에 .을 붙이고 메소드 호출\n",
    "\n",
    "#오류가 나는 것은 파이썬 인터프리터가 자동으로 메소드를 호출할 때 인자를 넣어버리기 때문"
   ]
  },
  {
   "cell_type": "code",
   "execution_count": 33,
   "id": "1a5e5514",
   "metadata": {},
   "outputs": [
    {
     "name": "stdout",
     "output_type": "stream",
     "text": [
      "a\n"
     ]
    }
   ],
   "source": [
    "class A:\n",
    "    def say_a(self): # 메소드\n",
    "        print(\"a\")\n",
    "        \n",
    "a = A() # 인스턴스화 (객체) = 객체 생성\n",
    "a.say_a()"
   ]
  },
  {
   "cell_type": "markdown",
   "id": "ca0ee783",
   "metadata": {},
   "source": [
    "c++ 또는 자바에 'this'라는 키워드가 있다면 파이썬에는 'self'라는 키워드가 있다.   \n",
    "그 뜻은 쉽게 유추가능한대로 '클래스의 인스턴스 자기 자신'이라는 뜻이다.  \n",
    "파이썬에서는 메소드를 정의할 때 self의 사용을 강제하는 것처럼 보인다.\n",
    "\n",
    "### self란  클래스의 인스턴스(객체)를 나타내는 변수\n"
   ]
  },
  {
   "cell_type": "code",
   "execution_count": 34,
   "id": "0ec87979",
   "metadata": {},
   "outputs": [
    {
     "ename": "TypeError",
     "evalue": "say_a() missing 1 required positional argument: 'self'",
     "output_type": "error",
     "traceback": [
      "\u001b[1;31m---------------------------------------------------------------------------\u001b[0m",
      "\u001b[1;31mTypeError\u001b[0m                                 Traceback (most recent call last)",
      "\u001b[1;32m<ipython-input-34-3085696571b2>\u001b[0m in \u001b[0;36m<module>\u001b[1;34m\u001b[0m\n\u001b[0;32m      3\u001b[0m         \u001b[0mprint\u001b[0m\u001b[1;33m(\u001b[0m\u001b[1;34m\"a\"\u001b[0m\u001b[1;33m)\u001b[0m\u001b[1;33m\u001b[0m\u001b[1;33m\u001b[0m\u001b[0m\n\u001b[0;32m      4\u001b[0m \u001b[1;33m\u001b[0m\u001b[0m\n\u001b[1;32m----> 5\u001b[1;33m \u001b[0mA\u001b[0m\u001b[1;33m.\u001b[0m\u001b[0msay_a\u001b[0m\u001b[1;33m(\u001b[0m\u001b[1;33m)\u001b[0m\u001b[1;33m\u001b[0m\u001b[1;33m\u001b[0m\u001b[0m\n\u001b[0m",
      "\u001b[1;31mTypeError\u001b[0m: say_a() missing 1 required positional argument: 'self'"
     ]
    }
   ],
   "source": [
    "class A:\n",
    "    def say_a(self): # 메소드\n",
    "        print(\"a\")\n",
    "        \n",
    "A.say_a()"
   ]
  },
  {
   "cell_type": "markdown",
   "id": "11edfc9c",
   "metadata": {},
   "source": [
    "self 를 명시하면 안되는 경우  \n",
    "바로 인스턴스화를 거치지 않고 (객체 생성하지 않고) 정적 메소드(Static Method) 형태로 사용할 경우\n"
   ]
  },
  {
   "cell_type": "code",
   "execution_count": 35,
   "id": "5925f275",
   "metadata": {},
   "outputs": [
    {
     "name": "stdout",
     "output_type": "stream",
     "text": [
      "a\n"
     ]
    }
   ],
   "source": [
    "class A:\n",
    "    def say_a(): # 메소드\n",
    "        print(\"a\")\n",
    "        \n",
    "A.say_a()"
   ]
  },
  {
   "cell_type": "markdown",
   "id": "a2eaf17f",
   "metadata": {},
   "source": [
    "### 파이썬에서는 클래스를 인스턴스화하지 않고 바로 호출해서 사용할 수 있다.  \n",
    "#### 객체를 생성하지 않았으므로 어떤 객체에 대해서 접근할 것인지 파악하는 것이 아무 의미가 없다.   \n",
    "#### 그래서 파이썬 인터프리터는 메소드를 호출할 때는 self에 해당하는 인자를 넘겨주지 않는 것이다.  \n",
    "\n",
    "### 인스턴스 변수와 클래스 변수가 따로 저장"
   ]
  }
 ],
 "metadata": {
  "kernelspec": {
   "display_name": "Python 3",
   "language": "python",
   "name": "python3"
  },
  "language_info": {
   "codemirror_mode": {
    "name": "ipython",
    "version": 3
   },
   "file_extension": ".py",
   "mimetype": "text/x-python",
   "name": "python",
   "nbconvert_exporter": "python",
   "pygments_lexer": "ipython3",
   "version": "3.8.8"
  }
 },
 "nbformat": 4,
 "nbformat_minor": 5
}
