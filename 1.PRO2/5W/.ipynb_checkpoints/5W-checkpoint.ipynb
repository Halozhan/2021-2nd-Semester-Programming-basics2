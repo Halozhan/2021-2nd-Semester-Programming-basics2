{
 "cells": [
  {
   "cell_type": "code",
   "execution_count": 3,
   "id": "2765624c",
   "metadata": {},
   "outputs": [
    {
     "data": {
      "text/plain": [
       "set"
      ]
     },
     "execution_count": 3,
     "metadata": {},
     "output_type": "execute_result"
    }
   ],
   "source": [
    "s = set()\n",
    "type(s)"
   ]
  },
  {
   "cell_type": "code",
   "execution_count": 5,
   "id": "1d46112d",
   "metadata": {},
   "outputs": [
    {
     "data": {
      "text/plain": [
       "{'교', '대', '문', '선', '학'}"
      ]
     },
     "execution_count": 5,
     "metadata": {},
     "output_type": "execute_result"
    }
   ],
   "source": [
    "set([1,2,3])\n",
    "set(\"선문대학교\")"
   ]
  },
  {
   "cell_type": "code",
   "execution_count": 10,
   "id": "65c64454",
   "metadata": {},
   "outputs": [
    {
     "name": "stdout",
     "output_type": "stream",
     "text": [
      "{'해', '달', '별'}\n",
      "{'귤', '감'}\n",
      "{'밤', '잣'}\n",
      "{('밤', '잣'), ('감', '귤'), '해달'}\n"
     ]
    }
   ],
   "source": [
    "planets = set(\"해달별\")\n",
    "fruits = set([\"감\",\"귤\"])\n",
    "nuts = {\"밤\",\"잣\"}\n",
    "things = {(\"밤\",\"잣\"),(\"감\",\"귤\"),\"해달\"} # {}은 리스트, 딕셔너리와 같이 가변적인 원소 사용 X\n",
    "\n",
    "print(planets)\n",
    "print(fruits)\n",
    "print(nuts)\n",
    "print(things)"
   ]
  },
  {
   "cell_type": "code",
   "execution_count": 16,
   "id": "5e32e19d",
   "metadata": {},
   "outputs": [
    {
     "name": "stdout",
     "output_type": "stream",
     "text": [
      "{1, 3, 5, 7, 9}\n",
      "{1, 5, 7, 9}\n",
      "{1, 5, 7, 9}\n"
     ]
    }
   ],
   "source": [
    "odd = {1,3,5}\n",
    "odd.add(7)\n",
    "\n",
    "odd.add(9)\n",
    "\n",
    "print(odd)\n",
    "\n",
    "odd.discard(3)\n",
    "print(odd)\n",
    "\n",
    "odd.discard(11)\n",
    "# odd.remove(11) 오류\n",
    "print(odd)\n"
   ]
  },
  {
   "cell_type": "code",
   "execution_count": 17,
   "id": "3fa638ff",
   "metadata": {},
   "outputs": [
    {
     "name": "stdout",
     "output_type": "stream",
     "text": [
      "커핏한잔\n"
     ]
    }
   ],
   "source": [
    "def hello():\n",
    "    print(\"커핏한잔\")\n",
    "    \n",
    "hello()"
   ]
  },
  {
   "cell_type": "code",
   "execution_count": 18,
   "id": "b8ecd44b",
   "metadata": {},
   "outputs": [
    {
     "name": "stdout",
     "output_type": "stream",
     "text": [
      "홀수\n",
      "짝수\n"
     ]
    }
   ],
   "source": [
    "def even_odd(num):\n",
    "    if num % 2 == 0:\n",
    "        print(\"짝수\")\n",
    "    else: print(\"홀수\")\n",
    "        \n",
    "even_odd(5)\n",
    "even_odd(2)"
   ]
  },
  {
   "cell_type": "code",
   "execution_count": 20,
   "id": "490cbe1f",
   "metadata": {},
   "outputs": [
    {
     "name": "stdout",
     "output_type": "stream",
     "text": [
      "김지영님은 빨강색을 좋아하지 않습니다.\n",
      "홍채영님은 노랑색을 조금 좋아합니다.\n",
      "진소진님은 파랑색을 매우 좋아합니다.\n"
     ]
    }
   ],
   "source": [
    "def favorite_color(name, color, amount):\n",
    "    if amount == 1:\n",
    "        print(\"%s님은 %s을 좋아하지 않습니다.\" % (name, color))\n",
    "    elif amount == 2:\n",
    "        print(\"%s님은 %s을 조금 좋아합니다.\" % (name, color))\n",
    "    else:\n",
    "        print(\"%s님은 %s을 매우 좋아합니다.\" % (name, color))\n",
    "        \n",
    "favorite_color(\"김지영\",\"빨강색\",1)\n",
    "favorite_color(\"홍채영\",\"노랑색\",2)\n",
    "favorite_color(\"진소진\",\"파랑색\",3)"
   ]
  },
  {
   "cell_type": "code",
   "execution_count": 25,
   "id": "eb8aa929",
   "metadata": {},
   "outputs": [
    {
     "name": "stdout",
     "output_type": "stream",
     "text": [
      "3과목의 평균: 90.00\n",
      "<class 'tuple'>\n",
      "4과목의 평균: 81.75\n",
      "<class 'tuple'>\n",
      "5과목의 평균: 79.40\n",
      "<class 'tuple'>\n"
     ]
    }
   ],
   "source": [
    "def average(*score):\n",
    "    hap = 0\n",
    "    for i in range(len(score)):\n",
    "        hap += score[i]\n",
    "    avg = hap / len(score)\n",
    "    print(\"%d과목의 평균: %.2f\" % (len(score), avg))\n",
    "    print(type(score))\n",
    "\n",
    "average(80, 90, 100)\n",
    "average(75, 80, 94, 78)\n",
    "average(80, 73, 76, 86, 82)"
   ]
  },
  {
   "cell_type": "markdown",
   "id": "80292186",
   "metadata": {},
   "source": [
    "## 값에 의한 호출(call by value)과 레퍼런스에 의한 호출(call by reference)  \n",
    "### 값에 의한 호출 \n",
    " 변수 x를 선언하고 복사했을때, 같은 x지만 메인 함수의 변수와 호출한 함수의 매개변수는 서로 다른 변수입니다\n",
    "말 그대로 값에 의한 호출, \n",
    "즉 값이 지정된 변수를 인자로 넘기는 것이 아니라 변수에 할당 된 값만을 복사해서 함수의 인자로 넘기는 방식이다.\n",
    "a = 2라고 할당된 변수가 있고 이 변수를 함수의 파라메타로 넘겼을 때 a가 넘어간 것이 아니라 2라는 값이 메모리 상에 복사되어 value에 할당\n",
    "\n",
    "### 레퍼런스에 의한 호출(call by reference)\n",
    "call by value와는 다르게 함수의 인자로 넘어간 값이 함수 내부에서 변경되되면 실제로 값이 변경된다.  \n",
    "a = 2라고 변수를 할당하면 2라는 값이 a가 가르키는 메모리 공간에 할당되는 것이 아니라 2라는 인스턴스의 주소값을 a가 가르키게 된다.   \n",
    "즉, a = 2라고 하면 2라는 값이 a에 할당되는 것이 아니라 2라는 인스턴스를 a가 가르키게 되는 것이다.\n"
   ]
  },
  {
   "cell_type": "code",
   "execution_count": 28,
   "id": "52262642",
   "metadata": {},
   "outputs": [
    {
     "name": "stdout",
     "output_type": "stream",
     "text": [
      "2 140722645775248 140722645772112\n",
      "2 140722645772112\n"
     ]
    }
   ],
   "source": [
    "def a_print(value):\n",
    "    a = 100\n",
    "    print(value, id(a), id(value)) # 내장함수id()는 특정변수(객체)가 저장된 메모리 공간의 주소\n",
    "\n",
    "a = 2\n",
    "a_print(a)\n",
    "\n",
    "print(a, id(a))"
   ]
  },
  {
   "cell_type": "code",
   "execution_count": 30,
   "id": "627beb37",
   "metadata": {},
   "outputs": [
    {
     "name": "stdout",
     "output_type": "stream",
     "text": [
      "10 140722645772368\n",
      "func(): x = 140722645775248\n",
      "10 140722645772368\n"
     ]
    }
   ],
   "source": [
    "def func(x):\n",
    "    x = 100\n",
    "    print(\"func(): x = %d\" % id(x))\n",
    "    \n",
    "x = 10\n",
    "print(x, id(x))\n",
    "\n",
    "func(x)\n",
    "print(x, id(x))"
   ]
  },
  {
   "cell_type": "markdown",
   "id": "e5c5220d",
   "metadata": {},
   "source": [
    "### 레퍼런스에 의한 호출(call by reference)  \n",
    "파이썬의 리스트, 딕셔너리를 매개변수로 전달시 데이터가 저장된 메모리의 주소(레퍼런스)가 매개변수에 전달   \n",
    "파이썬에서는 x의 데이터형이 정수, 실수, 문자열, 튜플일 경우 자동으로 값에 의한 호출  \n",
    "변수 x가 리스트나 딕셔너리인 경우 레퍼런스에 의한 호출\n",
    "C언어 처럼 변수라는 메모리 공간에 값을 직접 지정하지 않는다.  \n",
    "a += 1을 할 경우 2라는 객체의 인스턴스가 3이되는 것이아니라 3이라는 객체의 인스턴스를 a가 가르키게 된다. 실제로 값이 변경되는 것이 아니라 가르키는 값이 변경되는 것이다.\n"
   ]
  },
  {
   "cell_type": "code",
   "execution_count": 54,
   "id": "39855e04",
   "metadata": {},
   "outputs": [
    {
     "name": "stdout",
     "output_type": "stream",
     "text": [
      "[1, 2, 3] 1954823357952\n",
      "func(): x = 1954823357952\n",
      "[100, 2, 3] 1954823357952\n"
     ]
    }
   ],
   "source": [
    "def func(x):\n",
    "    x[0] = 100\n",
    "    print(\"func(): x = %d\" % id(x))\n",
    "    \n",
    "x = [1, 2, 3]\n",
    "print(x, id(x))\n",
    "\n",
    "func(x)\n",
    "print(x, id(x))\n",
    "\n",
    "#메인의 x 주소는 func()의 x 주소에서 동일한 메모리 공간 사용\n",
    "#즉, 메인 루틴의 리스트x의 메모리 주소가 호출된 함수의 매개변수에 전달되기 때문에 호출된 함수에 변경한 요소의 값이 메인 루틴에도 적용\n"
   ]
  },
  {
   "cell_type": "code",
   "execution_count": 57,
   "id": "dac1803c",
   "metadata": {},
   "outputs": [
    {
     "name": "stdout",
     "output_type": "stream",
     "text": [
      "원의 반지름을 입력하세요:20\n",
      "반지름 : 20, 원의 넓이 : 1256.00\n"
     ]
    }
   ],
   "source": [
    "def circle_area(r):\n",
    "    area = r**2*3.14\n",
    "    return area\n",
    "\n",
    "radius = int(input(\"원의 반지름을 입력하세요:\"))\n",
    "\n",
    "result = circle_area(radius)\n",
    "print(\"반지름 : %d, 원의 넓이 : %.2f\" % (radius, result))"
   ]
  },
  {
   "cell_type": "markdown",
   "id": "9832d5f0",
   "metadata": {},
   "source": [
    "함수를 이용하여 정수 합계 구하기"
   ]
  },
  {
   "cell_type": "code",
   "execution_count": 60,
   "id": "f35583dc",
   "metadata": {},
   "outputs": [
    {
     "name": "stdout",
     "output_type": "stream",
     "text": [
      "10 ~ 100의 정수 합계 : 5005\n",
      "100 ~ 1000의 정수 합계 : 495550\n",
      "1 ~ 100의 정수 합계 : 5050\n"
     ]
    }
   ],
   "source": [
    "def hap(s, e):\n",
    "    tot = 0\n",
    "    for i in range(s, e + 1, 1):\n",
    "        tot += i\n",
    "    print(\"%d ~ %d의 정수 합계 : %d\" % (s, e, tot))\n",
    "    \n",
    "hap(10, 100)\n",
    "hap(100, 1000)\n",
    "hap(1, 100)"
   ]
  },
  {
   "cell_type": "code",
   "execution_count": 64,
   "id": "2cae92d0",
   "metadata": {},
   "outputs": [
    {
     "name": "stdout",
     "output_type": "stream",
     "text": [
      "시작 수를 입력하세요: 10\n",
      "끝 수를 입력하세요: 100\n",
      "합계를 구할 배수를 입력하세요: 5\n",
      "1 ~ 100의 정수 중 5의 배수의 합계 : 1045\n"
     ]
    }
   ],
   "source": [
    "def hap(n1, n2, num):\n",
    "    tot = 0\n",
    "    for i in range(n1, n2 + 1):\n",
    "        if i % num == 0:\n",
    "            tot += i\n",
    "    \n",
    "    return tot\n",
    "    \n",
    "a1 = int(input(\"시작 수를 입력하세요: \"))\n",
    "a2 = int(input(\"끝 수를 입력하세요: \"))\n",
    "besu = int(input(\"합계를 구할 배수를 입력하세요: \"))\n",
    "\n",
    "result = hap(a1, a2, besu)\n",
    "print(\"%d ~ %d의 정수 중 %d의 배수의 합계 : %d\" % (n1, n2, besu, result))"
   ]
  },
  {
   "cell_type": "markdown",
   "id": "2aee0519",
   "metadata": {},
   "source": [
    "#람다 함수"
   ]
  },
  {
   "cell_type": "code",
   "execution_count": 66,
   "id": "5a31b12a",
   "metadata": {},
   "outputs": [
    {
     "data": {
      "text/plain": [
       "5"
      ]
     },
     "execution_count": 66,
     "metadata": {},
     "output_type": "execute_result"
    }
   ],
   "source": [
    "fc = lambda x : x + 1\n",
    "\n",
    "fc(4)"
   ]
  },
  {
   "cell_type": "code",
   "execution_count": 67,
   "id": "276008dc",
   "metadata": {},
   "outputs": [
    {
     "data": {
      "text/plain": [
       "10000000000"
      ]
     },
     "execution_count": 67,
     "metadata": {},
     "output_type": "execute_result"
    }
   ],
   "source": [
    "sd = lambda x : x**x\n",
    "\n",
    "sd(10)"
   ]
  },
  {
   "cell_type": "code",
   "execution_count": 69,
   "id": "f3e63810",
   "metadata": {},
   "outputs": [
    {
     "name": "stdout",
     "output_type": "stream",
     "text": [
      "25\n",
      "100\n"
     ]
    }
   ],
   "source": [
    "x = lambda k : k**2\n",
    "\n",
    "print(x(5))\n",
    "print(x(10))"
   ]
  },
  {
   "cell_type": "code",
   "execution_count": 74,
   "id": "1b79e915",
   "metadata": {},
   "outputs": [
    {
     "name": "stdout",
     "output_type": "stream",
     "text": [
      "60\n",
      "30\n",
      "50\n"
     ]
    }
   ],
   "source": [
    "f = lambda x, y, z : x + y + z\n",
    "print(f(10,20,30))\n",
    "\n",
    "def mul(n):\n",
    "    return lambda x : x * n\n",
    "\n",
    "g = mul(3)\n",
    "h = mul(5)\n",
    "\n",
    "print(g(10))\n",
    "print(h(10))"
   ]
  },
  {
   "cell_type": "markdown",
   "id": "e802f051",
   "metadata": {},
   "source": [
    "지역변수는 호출된 함수 내에서만 유효  \n",
    "호출된 함수의 실행이 종료되면 그 변수는 삭제되어 사용X   매개변수도 일종의 지역변수  \n",
    "전역변수는 프로그램의 메인루틴에서 사용되는 변수로 하위의 모든 함수에 유효\n"
   ]
  },
  {
   "cell_type": "code",
   "execution_count": 76,
   "id": "3830906c",
   "metadata": {},
   "outputs": [
    {
     "name": "stdout",
     "output_type": "stream",
     "text": [
      "10\n"
     ]
    },
    {
     "ename": "NameError",
     "evalue": "name 'i' is not defined",
     "output_type": "error",
     "traceback": [
      "\u001b[1;31m---------------------------------------------------------------------------\u001b[0m",
      "\u001b[1;31mNameError\u001b[0m                                 Traceback (most recent call last)",
      "\u001b[1;32m<ipython-input-76-11f007fb9e8a>\u001b[0m in \u001b[0;36m<module>\u001b[1;34m\u001b[0m\n\u001b[0;32m      4\u001b[0m \u001b[1;33m\u001b[0m\u001b[0m\n\u001b[0;32m      5\u001b[0m \u001b[0mfunc\u001b[0m\u001b[1;33m(\u001b[0m\u001b[1;33m)\u001b[0m\u001b[1;33m\u001b[0m\u001b[1;33m\u001b[0m\u001b[0m\n\u001b[1;32m----> 6\u001b[1;33m \u001b[0mprint\u001b[0m\u001b[1;33m(\u001b[0m\u001b[0mi\u001b[0m\u001b[1;33m)\u001b[0m\u001b[1;33m\u001b[0m\u001b[1;33m\u001b[0m\u001b[0m\n\u001b[0m",
      "\u001b[1;31mNameError\u001b[0m: name 'i' is not defined"
     ]
    }
   ],
   "source": [
    "def func():\n",
    "    i = 10\n",
    "    print(i)\n",
    "    \n",
    "func()\n",
    "print(i)"
   ]
  },
  {
   "cell_type": "code",
   "execution_count": 77,
   "id": "74c3b5cd",
   "metadata": {},
   "outputs": [
    {
     "name": "stdout",
     "output_type": "stream",
     "text": [
      "10\n",
      "140722645772368\n",
      "10\n",
      "140722645772368\n"
     ]
    }
   ],
   "source": [
    "def func():\n",
    "    print(x)\n",
    "    print(id(x))\n",
    "\n",
    "x = 10\n",
    "print(x)\n",
    "print(id(x))\n",
    "func()"
   ]
  },
  {
   "cell_type": "code",
   "execution_count": 78,
   "id": "a156670c",
   "metadata": {},
   "outputs": [
    {
     "name": "stdout",
     "output_type": "stream",
     "text": [
      "10\n",
      "140722645772368\n",
      "100\n",
      "140722645775248\n"
     ]
    }
   ],
   "source": [
    "def func():\n",
    "    x = 100\n",
    "    print(x)\n",
    "    print(id(x))\n",
    "\n",
    "x = 10\n",
    "print(x)\n",
    "print(id(x))\n",
    "func()"
   ]
  },
  {
   "cell_type": "code",
   "execution_count": 80,
   "id": "c41294b7",
   "metadata": {},
   "outputs": [
    {
     "name": "stdout",
     "output_type": "stream",
     "text": [
      "10\n",
      "10\n",
      "140722645772368\n",
      "10\n",
      "140722645772368\n"
     ]
    }
   ],
   "source": [
    "def func():\n",
    "    global x\n",
    "    print(x)\n",
    "    print(id(x))\n",
    "\n",
    "x = 10\n",
    "print(x)\n",
    "func()\n",
    "print(x)\n",
    "print(id(x))"
   ]
  }
 ],
 "metadata": {
  "kernelspec": {
   "display_name": "Python 3",
   "language": "python",
   "name": "python3"
  },
  "language_info": {
   "codemirror_mode": {
    "name": "ipython",
    "version": 3
   },
   "file_extension": ".py",
   "mimetype": "text/x-python",
   "name": "python",
   "nbconvert_exporter": "python",
   "pygments_lexer": "ipython3",
   "version": "3.8.8"
  }
 },
 "nbformat": 4,
 "nbformat_minor": 5
}
