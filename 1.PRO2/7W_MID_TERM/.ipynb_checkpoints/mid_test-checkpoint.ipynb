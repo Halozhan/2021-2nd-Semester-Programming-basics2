{
 "cells": [
  {
   "cell_type": "code",
   "execution_count": 9,
   "id": "21041dd9",
   "metadata": {},
   "outputs": [
    {
     "name": "stdout",
     "output_type": "stream",
     "text": [
      "아이디를 입력하세요 : rubato\n",
      "회원 레벨을 입력해 주세요 : 3\n",
      "일부 콘텐츠 이용 가능\n"
     ]
    }
   ],
   "source": [
    "#1\n",
    "id = input(\"아이디를 입력하세요 : \")\n",
    "\n",
    "if id == \"admin\":\n",
    "    print(\"모든 콘텐츠 이용 가능\")\n",
    "else:\n",
    "    level = int(input(\"회원 레벨을 입력해 주세요 : \"))\n",
    "    if level >= 2 and level <= 7:\n",
    "        print(\"일부 콘텐츠 이용 가능\")\n",
    "    else:\n",
    "        print(\"콘텐츠 이용 불가\")"
   ]
  },
  {
   "cell_type": "code",
   "execution_count": 1,
   "id": "9b66e6c9",
   "metadata": {},
   "outputs": [
    {
     "name": "stdout",
     "output_type": "stream",
     "text": [
      "몇 번째 라인까지 출력하시겠습니까? 5\n",
      "1\n",
      "2\n",
      "3\n",
      "4\n",
      "5\n"
     ]
    }
   ],
   "source": [
    "#2\n",
    "file = open(file = \"number1to10.txt\", mode=\"r\", encoding=\"UTF8\")\n",
    "readlines = file.readlines()\n",
    "file.close()\n",
    "count = int(input(\"몇 번째 라인까지 출력하시겠습니까? \"))\n",
    "for i in range(count):\n",
    "    print(readlines[i], end = \"\")"
   ]
  },
  {
   "cell_type": "code",
   "execution_count": 66,
   "id": "8f005e93",
   "metadata": {},
   "outputs": [
    {
     "name": "stdout",
     "output_type": "stream",
     "text": [
      "가장 낮은 최고 기온 : 17.3°\n"
     ]
    }
   ],
   "source": [
    "#3\n",
    "temp = {'월':25.5, '화':28.3, '수':33.2, '목':32.1, '금':17.3, '토':35.3, '일':33.3}\n",
    "\n",
    "lowest_temp = 100\n",
    "for i in temp:\n",
    "    if temp[i] < lowest_temp:\n",
    "        lowest_temp = temp[i]\n",
    "        \n",
    "print(\"가장 낮은 최고 기온 : %.1f°\" % lowest_temp)"
   ]
  },
  {
   "cell_type": "code",
   "execution_count": 86,
   "id": "03979e7b",
   "metadata": {},
   "outputs": [
    {
     "name": "stdout",
     "output_type": "stream",
     "text": [
      "x1 좌표를 입력하세요 :0\n",
      "y1 좌표를 입력하세요 :0\n",
      "x2 좌표를 입력하세요 :3\n",
      "y2 좌표를 입력하세요 :4\n",
      "두 점의 거리: 5.0\n"
     ]
    }
   ],
   "source": [
    "#4\n",
    "import math\n",
    "\n",
    "def distance(x1, y1, x2, y2):\n",
    "    return math.sqrt((x2 - x1)**2 + (y2 - y1)**2)\n",
    "\n",
    "x1 = int(input(\"x1 좌표를 입력하세요 :\"))\n",
    "y1 = int(input(\"y1 좌표를 입력하세요 :\"))\n",
    "x2 = int(input(\"x2 좌표를 입력하세요 :\"))\n",
    "y2 = int(input(\"y2 좌표를 입력하세요 :\"))\n",
    "\n",
    "print(\"두 점의 거리: %.1f\" % distance(x1, y1, x2, y2))"
   ]
  },
  {
   "cell_type": "code",
   "execution_count": 182,
   "id": "0725e37d",
   "metadata": {},
   "outputs": [
    {
     "name": "stdout",
     "output_type": "stream",
     "text": [
      "세 수를 입력하세요 : 10 20 30\n",
      "['10', '20', '30']\n",
      "10, 20, 30의 평균값은\n",
      "10, 20, 30의 최댓값은\n",
      "10, 20, 30의 최솟값은\n"
     ]
    }
   ],
   "source": [
    "#5\n",
    "def mean3(a, b, c):\n",
    "    return (a + b + c) / 3\n",
    "\n",
    "def max3(a, b, c):\n",
    "    maximum = a\n",
    "    if a < b:\n",
    "        maximum = b\n",
    "    if a < c:\n",
    "        maximum = c\n",
    "    if b < c:\n",
    "        maximum = c\n",
    "    return maximum\n",
    "\n",
    "def min3(a, b, c):\n",
    "    minimum = a\n",
    "    if a > b:\n",
    "        minimum = b\n",
    "    if a > c:\n",
    "        minimum = c\n",
    "    if b > c:\n",
    "        minimum = c\n",
    "    return minimum\n",
    "\n",
    "case = input(\"세 수를 입력하세요 : \")\n",
    "lists = case.split()\n",
    "print(lists)\n",
    "print(\"%s의 평균값은\" % (\", \".join(lists)))\n",
    "#print(\"%s의 평균값은 %.1f\" % (\", \".join(lists), mean3(case[0], case[1], case[2]))\n",
    "print(\"%s의 최댓값은\" % (\", \".join(lists)))\n",
    "print(\"%s의 최솟값은\" % (\", \".join(lists)))"
   ]
  },
  {
   "cell_type": "code",
   "execution_count": 136,
   "id": "10a64564",
   "metadata": {},
   "outputs": [
    {
     "name": "stdout",
     "output_type": "stream",
     "text": [
      "--------------------------------------------------\n",
      " 달러($)  원화(원)  유로(€)\n",
      "--------------------------------------------------\n",
      "     10    10800     8.1\n",
      "     20    21600    16.2\n",
      "     30    32400    24.3\n",
      "     40    43200    32.4\n",
      "     50    54000    40.5\n",
      "     60    64800    48.6\n",
      "     70    75600    56.7\n",
      "     80    86400    64.8\n",
      "     90    97200    72.9\n",
      "    100   108000    81.0\n",
      "--------------------------------------------------\n"
     ]
    }
   ],
   "source": [
    "#6\n",
    "print(\"-\"*50)\n",
    "print(\"%6s %6s %6s\" % (\"달러($)\", \"원화(원)\", \"유로(€)\"))\n",
    "print(\"-\"*50)\n",
    "count = 1\n",
    "while count <= 10:\n",
    "    print(\"%7d %8d %7.1f\" % (count * 10, count * 10800, count * 8.1))\n",
    "    count += 1\n",
    "print(\"-\"*50)"
   ]
  },
  {
   "cell_type": "code",
   "execution_count": 173,
   "id": "a4a1713e",
   "metadata": {},
   "outputs": [
    {
     "name": "stdout",
     "output_type": "stream",
     "text": [
      "예금 원금: 30000\n",
      "2년 총액: 330750.69\n",
      "4년 총액: 3646533.94\n",
      "6년 총액: 40203120.35\n",
      "8년 총액: 443240324.74\n"
     ]
    }
   ],
   "source": [
    "#7\n",
    "def getinterest(money, rate, year):\n",
    "    return float(money * ((1 + rate)**year))\n",
    "\n",
    "print(\"예금 원금: 30000\")\n",
    "money = 30000\n",
    "print(\"%d년 총액: %.2f\" % (2, getinterest(money, 2.320395, 2)))\n",
    "print(\"%d년 총액: %.2f\" % (4, getinterest(money, 2.320395, 4)))\n",
    "print(\"%d년 총액: %.2f\" % (6, getinterest(money, 2.320395, 6)))\n",
    "print(\"%d년 총액: %.2f\" % (8, getinterest(money, 2.320395, 8)))"
   ]
  }
 ],
 "metadata": {
  "kernelspec": {
   "display_name": "Python 3",
   "language": "python",
   "name": "python3"
  },
  "language_info": {
   "codemirror_mode": {
    "name": "ipython",
    "version": 3
   },
   "file_extension": ".py",
   "mimetype": "text/x-python",
   "name": "python",
   "nbconvert_exporter": "python",
   "pygments_lexer": "ipython3",
   "version": "3.8.8"
  }
 },
 "nbformat": 4,
 "nbformat_minor": 5
}
