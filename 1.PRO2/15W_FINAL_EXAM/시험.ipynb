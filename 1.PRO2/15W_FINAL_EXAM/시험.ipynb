{
 "cells": [
  {
   "cell_type": "code",
   "execution_count": 1,
   "metadata": {},
   "outputs": [
    {
     "name": "stdout",
     "output_type": "stream",
     "text": [
      "이름:홍길동\n",
      "이름:test@korea.com\n"
     ]
    }
   ],
   "source": [
    "# 16\n",
    "class TestClass2:\n",
    "    def __init__(self, name, email):\n",
    "        self.name = name\n",
    "        self.email = email\n",
    "        \n",
    "hong = TestClass2(\"홍길동\", \"test@korea.com\")\n",
    "print(\"이름:%s\" % hong.name)\n",
    "print(\"이름:%s\" % hong.email)"
   ]
  },
  {
   "cell_type": "code",
   "execution_count": 9,
   "metadata": {},
   "outputs": [
    {
     "name": "stdout",
     "output_type": "stream",
     "text": [
      "[[ 0  1  2]\n",
      " [ 3  4  5]\n",
      " [ 6  7  8]\n",
      " [ 9 10 11]]\n",
      "[[0 1 2]\n",
      " [3 4 5]\n",
      " [0 0 0]\n",
      " [0 0 0]]\n"
     ]
    }
   ],
   "source": [
    "# 17\n",
    "import numpy as np\n",
    "df2 = np.array(np.arange(0, 12).reshape(4, 3))\n",
    "# 1출력\n",
    "print(df2)\n",
    "\n",
    "# 2출력\n",
    "df2[df2>5] = 0\n",
    "print(df2)"
   ]
  },
  {
   "cell_type": "code",
   "execution_count": 25,
   "metadata": {},
   "outputs": [
    {
     "name": "stdout",
     "output_type": "stream",
     "text": [
      "  city  year  temp\n",
      "0   서울  2017    18\n",
      "1   부산  2017    20\n",
      "2   대전  2018    19\n",
      "3   대구  2018    21\n",
      "4   광주  2018    20\n",
      "  city  year  temp  car\n",
      "0   서울  2017    18   50\n",
      "1   부산  2017    20   40\n",
      "2   대전  2018    19   20\n",
      "3   대구  2018    21   30\n",
      "4   광주  2018    20   10\n",
      "20    2\n",
      "18    1\n",
      "19    1\n",
      "21    1\n",
      "Name: temp, dtype: int64\n"
     ]
    }
   ],
   "source": [
    "import pandas as pd\n",
    "df = {\"city\" : [\"서울\", \"부산\", \"대전\", \"대구\", \"광주\"],\n",
    "      \"year\" : [2017, 2017, 2018, 2018, 2018],\n",
    "      \"temp\" : [18, 20, 19, 21, 20]}\n",
    "\n",
    "df = pd.DataFrame(df)\n",
    "\n",
    "# 1\n",
    "print(df)\n",
    "\n",
    "# 2\n",
    "car = [50, 40, 20, 30, 10]\n",
    "df[\"car\"] = car\n",
    "\n",
    "print(df)\n",
    "\n",
    "# 3\n",
    "print(df[\"temp\"].value_counts())"
   ]
  },
  {
   "cell_type": "code",
   "execution_count": null,
   "metadata": {},
   "outputs": [],
   "source": []
  }
 ],
 "metadata": {
  "interpreter": {
   "hash": "c75be68dfb5c05d697e3b03cf43ef9160177b35478eafd92affcc66b1dab6a63"
  },
  "kernelspec": {
   "display_name": "Python 3.8.8 64-bit ('base': conda)",
   "language": "python",
   "name": "python3"
  },
  "language_info": {
   "codemirror_mode": {
    "name": "ipython",
    "version": 3
   },
   "file_extension": ".py",
   "mimetype": "text/x-python",
   "name": "python",
   "nbconvert_exporter": "python",
   "pygments_lexer": "ipython3",
   "version": "3.8.8"
  },
  "orig_nbformat": 4
 },
 "nbformat": 4,
 "nbformat_minor": 2
}
