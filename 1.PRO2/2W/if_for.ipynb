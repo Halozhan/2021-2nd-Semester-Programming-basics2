{
 "cells": [
  {
   "cell_type": "markdown",
   "id": "74879415",
   "metadata": {},
   "source": [
    "# 선문대학교\n",
    "\n",
    "안녕하세요  \n",
    "홍길동"
   ]
  },
  {
   "cell_type": "markdown",
   "id": "d89024f6",
   "metadata": {},
   "source": [
    "Ctrl + Enter   실행  \n",
    "새로운 셀 삽입은 a(위에 삽입, above), b(아래 삽입, below)을 입력한다  \n",
    "출력 화면을 감추려면/다시보려면 'o'를 입력\n"
   ]
  },
  {
   "cell_type": "code",
   "execution_count": 11,
   "id": "5b879bbe",
   "metadata": {},
   "outputs": [
    {
     "name": "stdout",
     "output_type": "stream",
     "text": [
      "물건가격입력 : 800\n",
      "구매개수입력 : 3\n",
      "지불금액입력 : 5000\n",
      "물건가격 : 800 원\n",
      "구매개수 : 3 개\n",
      "지불금액 : 2400 원\n",
      "거스름돈 : 2600 원\n"
     ]
    }
   ],
   "source": [
    "price = int(input(\"물건가격입력 : \"))\n",
    "buy = int(input(\"구매개수입력 : \"))\n",
    "pay = int(input(\"지불금액입력 : \"))\n",
    "\n",
    "returns = pay - price * buy\n",
    "\n",
    "print(\"물건가격 :\", price, \"원\")\n",
    "print(\"구매개수 :\", buy, \"개\")\n",
    "print(\"지불금액 :\", price * buy, \"원\")\n",
    "print(\"거스름돈 :\", returns, \"원\")"
   ]
  },
  {
   "cell_type": "code",
   "execution_count": 20,
   "id": "aa0e4212",
   "metadata": {},
   "outputs": [
    {
     "name": "stdout",
     "output_type": "stream",
     "text": [
      "학생 이름을 입력하세요 : 황예린\n",
      "국어 성적을 입력하세요 : 85\n",
      "영어 성적을 입력하세요 : 83\n",
      "수학 성적을 입력하세요 : 91\n",
      "이름:황예린, 국어:85, 영어:83점, 수학:91점, 평균:86.3점\n"
     ]
    }
   ],
   "source": [
    "name = input(\"학생 이름을 입력하세요 : \")\n",
    "kor = int(input(\"국어 성적을 입력하세요 : \"))\n",
    "eng = int(input(\"영어 성적을 입력하세요 : \"))\n",
    "math = int(input(\"수학 성적을 입력하세요 : \"))\n",
    "\n",
    "total = kor + eng + math\n",
    "avg = round(total / 3, 1)\n",
    "\n",
    "#print(\"이름: %s, 국어: %d, 영어: %d, 수학: %d, 평균:%.1f\" % (name, kor, eng, math, avg))\n",
    "print(f\"이름:{name}, 국어:{kor}, 영어:{eng}점, 수학:{math}점, 평균:{avg}점\")"
   ]
  },
  {
   "cell_type": "markdown",
   "id": "5fd8af39",
   "metadata": {},
   "source": [
    "연, 월, 일을 입력받아 ####-##-##의 형태로 출력하는 프로그램을 작성하시오.  \n",
    "단, 실행결과에서와 같이 월과 일에 1~9의 숫자가 입력되면 그 숫자 앞에 0을 채운다.  \n",
    "\n",
    "연을 입력하세요 : 2020  \n",
    "월을 입력하세요 : 1  \n",
    "일을 입력하세요 : 5  \n",
    "2020-01-05  "
   ]
  },
  {
   "cell_type": "code",
   "execution_count": 27,
   "id": "a2df1acb",
   "metadata": {},
   "outputs": [
    {
     "name": "stdout",
     "output_type": "stream",
     "text": [
      "연을 입력하세요 : 2021\n",
      "월을 입력하세요 : 9\n",
      "일을 입력하세요 : 14\n",
      "2021-09-14\n"
     ]
    }
   ],
   "source": [
    "year = int(input(\"연을 입력하세요 : \"))\n",
    "month = int(input(\"월을 입력하세요 : \"))\n",
    "day = int(input(\"일을 입력하세요 : \"))\n",
    "\n",
    "print(\"%04d-%02d-%02d\" % (year, month, day))"
   ]
  },
  {
   "cell_type": "markdown",
   "id": "fb0d6d10",
   "metadata": {},
   "source": [
    "# IF"
   ]
  },
  {
   "cell_type": "code",
   "execution_count": 24,
   "id": "791528e0",
   "metadata": {},
   "outputs": [
    {
     "name": "stdout",
     "output_type": "stream",
     "text": [
      "월을 입력하세요 : 9\n",
      "9월은 가을입니다.\n"
     ]
    }
   ],
   "source": [
    "month = int(input(\"월을 입력하세요 : \"))\n",
    "if month >= 3 and month <= 5 :\n",
    "    print(\"%d월은 봄입니다.\" % month)\n",
    "elif month >= 6 and month <= 8 :\n",
    "    print(\"%d월은 여름입니다.\" % month)\n",
    "elif month >= 9 and month <= 11 :\n",
    "    print(\"%d월은 가을입니다.\" % month)\n",
    "elif month == 12 or month == 1 or month == 2 :\n",
    "    print(\"%d월은 겨울입니다.\" % month)\n",
    "else :\n",
    "    print(\"잘못 입력했습니다.\")"
   ]
  },
  {
   "cell_type": "code",
   "execution_count": 62,
   "id": "001c469f",
   "metadata": {},
   "outputs": [
    {
     "name": "stdout",
     "output_type": "stream",
     "text": [
      "숫자를 입력하세요 : 8\n",
      "8은(는) 4의 배수이다.\n"
     ]
    }
   ],
   "source": [
    "num = int(input(\"숫자를 입력하세요 : \"))\n",
    "result = \"4의 배수도 5의 배수도 아니다.\"\n",
    "\n",
    "if num == 0:\n",
    "    result = \"나눌 수 없습니다.\"\n",
    "elif num % 4 == 0 :\n",
    "    result = \"4의 배수이다.\"\n",
    "elif num % 5 == 0 :\n",
    "    result = \"5의 배수이다.\"\n",
    "elif num % 4 == 0 and num % 5 == 0:\n",
    "    result = \"4의 배수이면서 5의 배수이다.\"\n",
    "\n",
    "print(\"%d은(는) %s\" % (num, result))"
   ]
  },
  {
   "cell_type": "code",
   "execution_count": 68,
   "id": "2a321268",
   "metadata": {},
   "outputs": [
    {
     "name": "stdout",
     "output_type": "stream",
     "text": [
      "물건 구매가를 입력하세요 :330000\n",
      "구매가 : 330000원\n",
      "할인율 : 10.0%\n",
      "할인 금액 : 33000원\n",
      "지불 금액 : 297000원\n"
     ]
    }
   ],
   "source": [
    "buy = int(input(\"물건 구매가를 입력하세요 :\" )) \n",
    "if buy >= 10000 and buy < 50000 : \n",
    "   rate = 5\n",
    "elif buy >= 50000 and buy < 300000 : \n",
    "   rate = 7.5 \n",
    "elif buy >= 300000 : \n",
    "   rate = 10\n",
    "else : \n",
    "   rate = 0 \n",
    "    \n",
    "discount = buy * rate / 100 \n",
    "pay = buy - discount \n",
    "\n",
    "print('구매가 : %.0f원' % buy) \n",
    "print('할인율 : %.1f%%' % rate) \n",
    "print('할인 금액 : %.0f원' % discount) \n",
    "print('지불 금액 : %.0f원' % pay)"
   ]
  },
  {
   "cell_type": "code",
   "execution_count": 77,
   "id": "4bd4370b",
   "metadata": {},
   "outputs": [
    {
     "name": "stdout",
     "output_type": "stream",
     "text": [
      "서비스 만족도 : \n",
      "  1: 매우만족\n",
      "  2: 만족\n",
      "  3: 불만족 서비스\n",
      "서비스 만족도를 입력해주세요(예: 1 또는 2 또는 3) : 1\n",
      "음식값을 입력해주세요(예:8000) : 80000\n",
      "\n",
      "서비스 만족도 : 매우 만족, 팁 : 16000원\n"
     ]
    }
   ],
   "source": [
    "print(\"서비스 만족도 : \")\n",
    "print(\"  1: 매우만족\")\n",
    "print(\"  2: 만족\")\n",
    "print(\"  3: 불만족 서비스\")\n",
    "\n",
    "a = input(\"서비스 만족도를 입력해주세요(예: 1 또는 2 또는 3) : \")\n",
    "price = int(input(\"음식값을 입력해주세요(예:8000) : \"))\n",
    "\n",
    "if a == \"1\":\n",
    "    tip = int(price * 0.2)\n",
    "    service = \"매우 만족\"\n",
    "elif a == \"2\":\n",
    "    tip = int(price * 0.1)\n",
    "    service = \"만족\"\n",
    "else:\n",
    "    tip = int(price * 0.05)\n",
    "    service = \"불만족\"\n",
    "    \n",
    "print()\n",
    "print(\"서비스 만족도 : %s, 팁 : %d원\" % (service, tip))"
   ]
  },
  {
   "cell_type": "markdown",
   "id": "edf6995d",
   "metadata": {},
   "source": [
    "# 반복문 : 특정 코드를 반복 실행  \n",
    " ### 반복문의 두 가지  \n",
    "     - For문  \n",
    "     - While문\n"
   ]
  },
  {
   "cell_type": "code",
   "execution_count": 81,
   "id": "18d1957c",
   "metadata": {
    "scrolled": true
   },
   "outputs": [
    {
     "name": "stdout",
     "output_type": "stream",
     "text": [
      "1 3 5 7 9 "
     ]
    }
   ],
   "source": [
    "for i in range(1, 11, 2):\n",
    "    print(i, end = \" \")"
   ]
  },
  {
   "cell_type": "code",
   "execution_count": 82,
   "id": "0eb25c1f",
   "metadata": {
    "scrolled": true
   },
   "outputs": [
    {
     "name": "stdout",
     "output_type": "stream",
     "text": [
      "1 2 3 4 5 6 7 8 9 10 11 12 13 14 15 16 17 18 19 20 21 22 23 24 25 26 27 28 29 30 31 32 33 34 35 36 37 38 39 40 41 42 43 44 45 46 47 48 49 50 51 52 53 54 55 56 57 58 59 60 61 62 63 64 65 66 67 68 69 70 71 72 73 74 75 76 77 78 79 80 81 82 83 84 85 86 87 88 89 90 91 92 93 94 95 96 97 98 99 100 "
     ]
    }
   ],
   "source": [
    "for i in range(1, 101, 1):\n",
    "    print(i, end = \" \")"
   ]
  },
  {
   "cell_type": "code",
   "execution_count": 83,
   "id": "7e8e652e",
   "metadata": {},
   "outputs": [
    {
     "name": "stdout",
     "output_type": "stream",
     "text": [
      "100 99 98 97 96 95 94 93 92 91 90 89 88 87 86 85 84 83 82 81 80 79 78 77 76 75 74 73 72 71 70 69 68 67 66 65 64 63 62 61 60 59 58 57 56 55 54 53 52 51 50 49 48 47 46 45 44 43 42 41 40 39 38 37 36 35 34 33 32 31 30 29 28 27 26 25 24 23 22 21 20 19 18 17 16 15 14 13 12 11 10 9 8 7 6 5 4 3 2 1 "
     ]
    }
   ],
   "source": [
    "for i in range(100, 0, -1):\n",
    "    print(i, end = \" \")"
   ]
  },
  {
   "cell_type": "code",
   "execution_count": 99,
   "id": "5a4bcf46",
   "metadata": {},
   "outputs": [
    {
     "name": "stdout",
     "output_type": "stream",
     "text": [
      "3  6  9  12  15  18  21  24  27  30  33  36  39  42  45  48  51  54  57  60  63  66  69  72  75  78  81  84  87  90  93  96  99  \n",
      " --------------------------------------------------\n",
      "1~100에서 3의 배수의 합계 : 1683\n"
     ]
    }
   ],
   "source": [
    "hap = 0\n",
    "for i in range(1, 101, 1):\n",
    "    if i % 3 == 0:\n",
    "        print(\"%d \" % i, end = \" \")\n",
    "        hap = hap + i\n",
    "print(\"\\n\",\"-\"*50)\n",
    "        \n",
    "print(\"1~100에서 3의 배수의 합계 :\", hap)"
   ]
  },
  {
   "cell_type": "code",
   "execution_count": 104,
   "id": "df9d6a69",
   "metadata": {},
   "outputs": [
    {
     "name": "stdout",
     "output_type": "stream",
     "text": [
      "시작 수 : 100\n",
      "끝 수 : 200\n",
      "101  102  103  104  106  107  108  109  111  112  113  114  116  117  118  119  121  122  123  124  126  127  128  129  131  132  133  134  136  137  138  139  141  142  143  144  146  147  148  149  151  152  153  154  156  157  158  159  161  162  163  164  166  167  168  169  171  172  173  174  176  177  178  179  181  182  183  184  186  187  188  189  191  192  193  194  196  197  198  199  \n",
      " --------------------------------------------------\n",
      "1~100에서 5의 배수가 아닌 것의 합계 : 12000\n"
     ]
    }
   ],
   "source": [
    "hap = 0\n",
    "\n",
    "n1 = int(input(\"시작 수 : \"))\n",
    "n2 = int(input(\"끝 수 : \"))\n",
    "\n",
    "for i in range(n1, n2+1, 1):\n",
    "    if i % 5 != 0:\n",
    "        print(\"%d \" % i, end = \" \")\n",
    "        hap = hap + i\n",
    "print(\"\\n\",\"-\"*50)\n",
    "        \n",
    "print(\"1~100에서 5의 배수가 아닌 것의 합계 :\", hap)"
   ]
  },
  {
   "cell_type": "code",
   "execution_count": 109,
   "id": "f54374c9",
   "metadata": {},
   "outputs": [
    {
     "name": "stdout",
     "output_type": "stream",
     "text": [
      "하이픈을 넣던 말던 휴대폰 번호를 입력하세요 : 010-30302222\n",
      "01030302222"
     ]
    }
   ],
   "source": [
    "number = input(\"하이픈을 넣던 말던 휴대폰 번호를 입력하세요 : \")\n",
    "for x in number:\n",
    "    if x != \"-\":\n",
    "        print(\"%s\" % x, end = \"\")"
   ]
  },
  {
   "cell_type": "code",
   "execution_count": 112,
   "id": "d83354bb",
   "metadata": {},
   "outputs": [
    {
     "name": "stdout",
     "output_type": "stream",
     "text": [
      "하이픈(-)을 뺀 11자리의 휴대폰 번호를 입력하세요 : 01044443333\n",
      "010-4444-3333\n"
     ]
    }
   ],
   "source": [
    "phone = input(\"하이픈(-)을 뺀 11자리의 휴대폰 번호를 입력하세요 : \")\n",
    "number = \"\"\n",
    "\n",
    "for i in range(0, len(phone), 1):\n",
    "    if i == 2:\n",
    "        number = number + (phone[2]+\"-\")\n",
    "    elif i == 6:\n",
    "        number = number + (phone[6]+\"-\")\n",
    "    else:\n",
    "        number = number + phone[i]\n",
    "print(number)"
   ]
  }
 ],
 "metadata": {
  "kernelspec": {
   "display_name": "Python 3",
   "language": "python",
   "name": "python3"
  },
  "language_info": {
   "codemirror_mode": {
    "name": "ipython",
    "version": 3
   },
   "file_extension": ".py",
   "mimetype": "text/x-python",
   "name": "python",
   "nbconvert_exporter": "python",
   "pygments_lexer": "ipython3",
   "version": "3.8.8"
  }
 },
 "nbformat": 4,
 "nbformat_minor": 5
}
