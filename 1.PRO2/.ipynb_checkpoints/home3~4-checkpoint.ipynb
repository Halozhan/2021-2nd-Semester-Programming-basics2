{
 "cells": [
  {
   "cell_type": "code",
   "execution_count": 30,
   "id": "1bcc8690",
   "metadata": {},
   "outputs": [
    {
     "name": "stdout",
     "output_type": "stream",
     "text": [
      "기온이 30° 이상인 요일: 수, 목, 토, 일\n"
     ]
    }
   ],
   "source": [
    "temp = {'월':25.5, '화':28.3, '수':33.2, '목':32.1, '금':17.3, '토':35.3, '일':33.3}\n",
    "hotdays = []\n",
    "for key, value in temp.items():\n",
    "    if value >= 30:\n",
    "        hotdays += key\n",
    "print(\"기온이 30° 이상인 요일: %s\" % \", \".join(hotdays))"
   ]
  },
  {
   "cell_type": "code",
   "execution_count": 54,
   "id": "7039b863",
   "metadata": {},
   "outputs": [
    {
     "name": "stdout",
     "output_type": "stream",
     "text": [
      "번호선택 1. 갤론 => 리터 2. 리터 => 갤론 >> 1\n",
      "변환할 갤론은? 234\n",
      "234.00 갤론 == 885.69 리터\n"
     ]
    }
   ],
   "source": [
    "def togallon(liter):\n",
    "    return liter * 0.264\n",
    "\n",
    "def toliter(gallon):\n",
    "    return gallon * 3.785\n",
    "\n",
    "q = int(input(\"번호선택 1. 갤론 => 리터 2. 리터 => 갤론 >> \"))\n",
    "if q == 1:\n",
    "    gallon = float(input(\"변환할 갤론은? \"))\n",
    "    print(\"%.2f 갤론 == %.2f 리터\" % (gallon, toliter(gallon)))\n",
    "elif q == 2:\n",
    "    liter = float(input(\"변환할 리터는? \"))\n",
    "    print(\"%.2f 리터 == %.2f 갤론\" % (liter, togallon(liter)))"
   ]
  }
 ],
 "metadata": {
  "kernelspec": {
   "display_name": "Python 3",
   "language": "python",
   "name": "python3"
  },
  "language_info": {
   "codemirror_mode": {
    "name": "ipython",
    "version": 3
   },
   "file_extension": ".py",
   "mimetype": "text/x-python",
   "name": "python",
   "nbconvert_exporter": "python",
   "pygments_lexer": "ipython3",
   "version": "3.8.8"
  }
 },
 "nbformat": 4,
 "nbformat_minor": 5
}
