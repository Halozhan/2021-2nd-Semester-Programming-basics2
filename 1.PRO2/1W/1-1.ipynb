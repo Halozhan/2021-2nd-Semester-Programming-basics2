{
 "cells": [
  {
   "cell_type": "markdown",
   "id": "441c7904",
   "metadata": {},
   "source": [
    "IPYNB = interactive python notebook"
   ]
  },
  {
   "cell_type": "code",
   "execution_count": 1,
   "id": "a2c65cb0",
   "metadata": {},
   "outputs": [
    {
     "data": {
      "text/plain": [
       "4.0"
      ]
     },
     "execution_count": 1,
     "metadata": {},
     "output_type": "execute_result"
    }
   ],
   "source": [
    "2+3\n",
    "20/5"
   ]
  },
  {
   "cell_type": "code",
   "execution_count": 15,
   "id": "c49343da",
   "metadata": {},
   "outputs": [
    {
     "name": "stdout",
     "output_type": "stream",
     "text": [
      "Hello?\n"
     ]
    }
   ],
   "source": [
    "print(\"Hello?\")"
   ]
  },
  {
   "cell_type": "markdown",
   "id": "f806bd4c",
   "metadata": {},
   "source": [
    "선문  \n",
    "대학교  \n",
    "안녕하세요"
   ]
  },
  {
   "cell_type": "markdown",
   "id": "939b3bb6",
   "metadata": {},
   "source": [
    "# Hello Jupyter Notebook  \n",
    "## Hello Jupyter Notebook  \n",
    "### Hello Jupyter Notebook  \n",
    "#### Hello Jupyter Notebook  \n",
    "\n",
    "### 마크다운에서도 enter를 눌러도 줄이 바뀌지 않는다. \n",
    "\n",
    "### html에서는 <br> 태그를 이용해서 줄바꿈을 사용할 수 있는데, 마크다운에서는 간단하게 띄어쓰기(스페이스바) 두 번을 하고 enter을 누르면 줄을 바꿀 수 있다.\n"
   ]
  },
  {
   "cell_type": "markdown",
   "id": "0ebc3afc",
   "metadata": {},
   "source": [
    "글머리 기호를 쓴 후 내용을 쓸때 띄어쓰기를 합니다.\n",
    "\n",
    "1. 첫번째\n",
    "2. 두번째\n",
    "3. 세번째\n",
    "\n",
    "\n",
    "+ 첫번째\n",
    "+ 두번째\n",
    "+ 세번째\n",
    "\n",
    "\n",
    "+ 첫번째\n",
    "    + 두번째\n",
    "        + 세번째\n",
    "        \n",
    "*기울어진 글씨*  \n",
    "_기울어진 글씨_\n",
    "\n",
    "**기울어진 글씨**\n",
    "\n",
    "~~줄그어진 글씨~~"
   ]
  }
 ],
 "metadata": {
  "kernelspec": {
   "display_name": "Python 3",
   "language": "python",
   "name": "python3"
  },
  "language_info": {
   "codemirror_mode": {
    "name": "ipython",
    "version": 3
   },
   "file_extension": ".py",
   "mimetype": "text/x-python",
   "name": "python",
   "nbconvert_exporter": "python",
   "pygments_lexer": "ipython3",
   "version": "3.8.8"
  }
 },
 "nbformat": 4,
 "nbformat_minor": 5
}
