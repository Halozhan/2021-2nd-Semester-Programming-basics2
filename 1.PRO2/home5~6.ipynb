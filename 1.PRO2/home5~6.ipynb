{
 "cells": [
  {
   "cell_type": "code",
   "execution_count": 11,
   "id": "4435817c",
   "metadata": {},
   "outputs": [
    {
     "name": "stdout",
     "output_type": "stream",
     "text": [
      "이름:홍길동\n",
      "전화번호:010-1234-5678\n",
      "주소:성남시\n"
     ]
    }
   ],
   "source": [
    "#과제5\n",
    "\n",
    "class Member:\n",
    "    def __init__(self, name, phone, address):\n",
    "        self.name = name\n",
    "        self.phone = phone\n",
    "        self.address = address\n",
    "        \n",
    "honggildong = Member(\"홍길동\", \"010-1234-5678\", \"성남시\")\n",
    "\n",
    "print(\"이름:%s\" % honggildong.name)\n",
    "print(\"전화번호:%s\" % honggildong.phone)\n",
    "print(\"주소:%s\" % honggildong.address)"
   ]
  },
  {
   "cell_type": "code",
   "execution_count": 12,
   "id": "46c32f4c",
   "metadata": {},
   "outputs": [
    {
     "name": "stdout",
     "output_type": "stream",
     "text": [
      "이름:홍길동\n",
      "전화번호:010-1234-5678\n",
      "주소:성남시\n"
     ]
    }
   ],
   "source": [
    "#과제6\n",
    "\n",
    "class Member:\n",
    "    def __init__(self, dict):\n",
    "        self.name = dict['name']\n",
    "        self.phone = dict['phone']\n",
    "        self.address = dict['address']\n",
    "        \n",
    "dict = {'name':'홍길동', 'phone':'010-1234-5678', 'address':'성남시'}\n",
    "\n",
    "honggildong = Member(dict)\n",
    "\n",
    "print(\"이름:%s\" % honggildong.name)\n",
    "print(\"전화번호:%s\" % honggildong.phone)\n",
    "print(\"주소:%s\" % honggildong.address)"
   ]
  }
 ],
 "metadata": {
  "kernelspec": {
   "display_name": "Python 3",
   "language": "python",
   "name": "python3"
  },
  "language_info": {
   "codemirror_mode": {
    "name": "ipython",
    "version": 3
   },
   "file_extension": ".py",
   "mimetype": "text/x-python",
   "name": "python",
   "nbconvert_exporter": "python",
   "pygments_lexer": "ipython3",
   "version": "3.8.8"
  }
 },
 "nbformat": 4,
 "nbformat_minor": 5
}
