{
 "cells": [
  {
   "cell_type": "code",
   "execution_count": 2,
   "id": "57d451c3",
   "metadata": {},
   "outputs": [
    {
     "name": "stdout",
     "output_type": "stream",
     "text": [
      "('coffee', 'milk', 'tea', 'cider')\n",
      "coffee\n",
      "tea\n",
      "('coffee', 'milk', 'tea')\n"
     ]
    },
    {
     "ename": "TypeError",
     "evalue": "'tuple' object does not support item assignment",
     "output_type": "error",
     "traceback": [
      "\u001b[1;31m---------------------------------------------------------------------------\u001b[0m",
      "\u001b[1;31mTypeError\u001b[0m                                 Traceback (most recent call last)",
      "\u001b[1;32m<ipython-input-2-b162f7b16568>\u001b[0m in \u001b[0;36m<module>\u001b[1;34m\u001b[0m\n\u001b[0;32m      5\u001b[0m \u001b[0mprint\u001b[0m\u001b[1;33m(\u001b[0m\u001b[0mmenu\u001b[0m\u001b[1;33m[\u001b[0m\u001b[1;36m0\u001b[0m\u001b[1;33m:\u001b[0m\u001b[1;36m3\u001b[0m\u001b[1;33m]\u001b[0m\u001b[1;33m)\u001b[0m\u001b[1;33m\u001b[0m\u001b[1;33m\u001b[0m\u001b[0m\n\u001b[0;32m      6\u001b[0m \u001b[1;33m\u001b[0m\u001b[0m\n\u001b[1;32m----> 7\u001b[1;33m \u001b[0mmenu\u001b[0m\u001b[1;33m[\u001b[0m\u001b[1;36m1\u001b[0m\u001b[1;33m]\u001b[0m\u001b[1;33m=\u001b[0m\u001b[1;34m\"cola\"\u001b[0m\u001b[1;33m\u001b[0m\u001b[1;33m\u001b[0m\u001b[0m\n\u001b[0m",
      "\u001b[1;31mTypeError\u001b[0m: 'tuple' object does not support item assignment"
     ]
    }
   ],
   "source": [
    "menu = ('coffee', 'milk', 'tea', 'cider')\n",
    "print(menu)\n",
    "print(menu[0])\n",
    "print(menu[2])\n",
    "print(menu[0:3])\n",
    "\n",
    "menu[1]=\"cola\""
   ]
  },
  {
   "cell_type": "code",
   "execution_count": 4,
   "id": "ba798119",
   "metadata": {},
   "outputs": [
    {
     "name": "stdout",
     "output_type": "stream",
     "text": [
      "구구단표\n",
      "------------------------------\n",
      "2 x 1 = 2\n",
      "2 x 2 = 4\n",
      "2 x 3 = 6\n",
      "2 x 4 = 8\n",
      "2 x 5 = 10\n",
      "2 x 6 = 12\n",
      "2 x 7 = 14\n",
      "2 x 8 = 16\n",
      "2 x 9 = 18\n",
      "------------------------------\n",
      "3 x 1 = 3\n",
      "3 x 2 = 6\n",
      "3 x 3 = 9\n",
      "3 x 4 = 12\n",
      "3 x 5 = 15\n",
      "3 x 6 = 18\n",
      "3 x 7 = 21\n",
      "3 x 8 = 24\n",
      "3 x 9 = 27\n",
      "------------------------------\n",
      "4 x 1 = 4\n",
      "4 x 2 = 8\n",
      "4 x 3 = 12\n",
      "4 x 4 = 16\n",
      "4 x 5 = 20\n",
      "4 x 6 = 24\n",
      "4 x 7 = 28\n",
      "4 x 8 = 32\n",
      "4 x 9 = 36\n",
      "------------------------------\n",
      "5 x 1 = 5\n",
      "5 x 2 = 10\n",
      "5 x 3 = 15\n",
      "5 x 4 = 20\n",
      "5 x 5 = 25\n",
      "5 x 6 = 30\n",
      "5 x 7 = 35\n",
      "5 x 8 = 40\n",
      "5 x 9 = 45\n",
      "------------------------------\n",
      "6 x 1 = 6\n",
      "6 x 2 = 12\n",
      "6 x 3 = 18\n",
      "6 x 4 = 24\n",
      "6 x 5 = 30\n",
      "6 x 6 = 36\n",
      "6 x 7 = 42\n",
      "6 x 8 = 48\n",
      "6 x 9 = 54\n",
      "------------------------------\n",
      "7 x 1 = 7\n",
      "7 x 2 = 14\n",
      "7 x 3 = 21\n",
      "7 x 4 = 28\n",
      "7 x 5 = 35\n",
      "7 x 6 = 42\n",
      "7 x 7 = 49\n",
      "7 x 8 = 56\n",
      "7 x 9 = 63\n",
      "------------------------------\n",
      "8 x 1 = 8\n",
      "8 x 2 = 16\n",
      "8 x 3 = 24\n",
      "8 x 4 = 32\n",
      "8 x 5 = 40\n",
      "8 x 6 = 48\n",
      "8 x 7 = 56\n",
      "8 x 8 = 64\n",
      "8 x 9 = 72\n",
      "------------------------------\n",
      "9 x 1 = 9\n",
      "9 x 2 = 18\n",
      "9 x 3 = 27\n",
      "9 x 4 = 36\n",
      "9 x 5 = 45\n",
      "9 x 6 = 54\n",
      "9 x 7 = 63\n",
      "9 x 8 = 72\n",
      "9 x 9 = 81\n",
      "------------------------------\n"
     ]
    }
   ],
   "source": [
    "dans = (2,3,4,5,6,7,8,9)\n",
    "\n",
    "print(\"구구단표\")\n",
    "print(\"-\"*30)\n",
    "\n",
    "for dan in dans:\n",
    "    for i in range(1, 10, 1):\n",
    "        print(\"%d x %d = %d\" % (dan, i, dan*i))\n",
    "    print(\"-\"*30)"
   ]
  },
  {
   "cell_type": "markdown",
   "id": "4a494c13",
   "metadata": {},
   "source": [
    "튜플을 이용하여 관리자 정보를 처리하는 프로그램을 완성하시오.\n",
    "\n",
    "관리자아이디와 정보  \n",
    "admin_info = ('admin', '12345', 'rubato@naver.com')\n",
    "\n",
    "\n",
    "관리자 아이디를 입력하세요 : admin  \n",
    "관리자 비밀번호를 입력하세요 : 12345  \n",
    "관리자입니다.\n"
   ]
  },
  {
   "cell_type": "code",
   "execution_count": 9,
   "id": "c80260cf",
   "metadata": {},
   "outputs": [
    {
     "name": "stdout",
     "output_type": "stream",
     "text": [
      "관리자 아이디를 입력하세요 : admin\n",
      "관리자 비밀번호를 입력하세요 : 12345\n",
      "관리자입니다.\n"
     ]
    }
   ],
   "source": [
    "admin_info = (\"admin\", \"12345\", \"rubato@naver.com\")\n",
    "id = input(\"관리자 아이디를 입력하세요 : \")\n",
    "pw = input(\"관리자 비밀번호를 입력하세요 : \")\n",
    "if id == admin_info[0] and pw == admin_info[1]:\n",
    "    print(\"관리자입니다.\")\n",
    "else:\n",
    "    print(\"아이디 또는 비밀번호가 잘못 입력되었습니다.\")"
   ]
  },
  {
   "cell_type": "markdown",
   "id": "9c7e4dcb",
   "metadata": {},
   "source": [
    "딕셔너리를 이용하여 3명의 학생들의 성적의 합계와 평균을 구하는 프로그램을 완성하시오.  \n",
    "scores = {'김예진': 90, '박영진': 95, '김소희': 84}  \n",
    "김예진 : 90  \n",
    "박영진 : 95  \n",
    "김소희 : 84  \n",
    "합계 : 269, 평균 : 89.67\n"
   ]
  },
  {
   "cell_type": "code",
   "execution_count": 16,
   "id": "104c363d",
   "metadata": {},
   "outputs": [
    {
     "name": "stdout",
     "output_type": "stream",
     "text": [
      "김예진 : 90\n",
      "박영진 : 95\n",
      "김소희 : 84\n",
      "합계 : 269, 평균 : 89.67\n"
     ]
    }
   ],
   "source": [
    "scores = {'김예진': 90, '박영진': 95, '김소희': 84}\n",
    "#print(scores.keys())\n",
    "#print(scores.values())\n",
    "#print(scores.items())\n",
    "\n",
    "hap = 0\n",
    "for key in scores:\n",
    "    hap += scores[key]\n",
    "    print(\"%s : %d\" % (key, scores[key]))\n",
    "print(\"합계 : %d, 평균 : %.2f\" % (hap, hap/len(scores)))"
   ]
  },
  {
   "cell_type": "markdown",
   "id": "6aff29f4",
   "metadata": {},
   "source": [
    "웹의 관리자 정보를 딕셔너리에 저장한 다음  입력된 아이디와 비번을 체크하여 정보 접근 가능 여부를 판전하는 프로그램을 완성  \n",
    "ad = {'id':'admin', 'password':'11111'}  \n",
    "\n",
    "\n",
    "아이디를 입력하세요: admin  \n",
    "비밀번호를 입력하세요: 11111  \n",
    "모든 정보에 접근 가능합니다!\n"
   ]
  },
  {
   "cell_type": "code",
   "execution_count": 19,
   "id": "95f101cc",
   "metadata": {},
   "outputs": [
    {
     "name": "stdout",
     "output_type": "stream",
     "text": [
      "아이디를 입력하세요: admin\n",
      "비밀번호를 입력하세요: 11111\n",
      "모든 정보에 접근 가능합니다!\n"
     ]
    }
   ],
   "source": [
    "ad = {'id':'admin', 'password':'11111'}\n",
    "id = input(\"아이디를 입력하세요: \")\n",
    "pw = input(\"비밀번호를 입력하세요: \")\n",
    "if id == ad[\"id\"] and pw == ad[\"password\"]:\n",
    "    print(\"모든 정보에 접근 가능합니다!\")\n",
    "else:\n",
    "    print(\"아이디 또는 비밀번호가 잘못 입력되었습니다.\")"
   ]
  },
  {
   "cell_type": "markdown",
   "id": "2943c81e",
   "metadata": {},
   "source": [
    "딕셔너리를 이용하여 영어단어 퀴즈를 만드는 프로그램을 완성  \n",
    "words = {'사과':'apple', '컴퓨터':'computer', '학교':'school', '책상':'desk', '의자':'chair'}  \n",
    "\n",
    "사과에 해당되는 영어 단어를 입력해주세요: apple  \n",
    "정답입니다!  \n",
    "\n",
    "컴퓨터에 해당되는 영어 단어를 입력해주세요: commputer  \n",
    "틀렸습니다!  \n",
    "\n",
    "학교에 해당되는 영어 단어를 입력해주세요: school  \n",
    "정답입니다!  \n",
    "\n",
    "책상에 해당되는 영어 단어를 입력해주세요: tesk  \n",
    "틀렸습니다!  \n",
    "\n",
    "의자에 해당되는 영어 단어를 입력해주세요: chaaar  \n",
    "틀렸습니다!\n"
   ]
  },
  {
   "cell_type": "code",
   "execution_count": 4,
   "id": "91100e63",
   "metadata": {},
   "outputs": [
    {
     "name": "stdout",
     "output_type": "stream",
     "text": [
      "사과에 해당되는 영어 단어를 입력해주세요: apple\n",
      "정답입니다!\n",
      "\n",
      "컴퓨터에 해당되는 영어 단어를 입력해주세요: computer\n",
      "정답입니다!\n",
      "\n",
      "학교에 해당되는 영어 단어를 입력해주세요: ss\n",
      "틀렸습니다!\n",
      "\n",
      "책상에 해당되는 영어 단어를 입력해주세요: chairr\n",
      "틀렸습니다!\n",
      "\n",
      "의자에 해당되는 영어 단어를 입력해주세요: desk\n",
      "틀렸습니다!\n",
      "\n"
     ]
    }
   ],
   "source": [
    "words = {'사과':'apple', '컴퓨터':'computer', '학교':'school', '책상':'desk', '의자':'chair'}\n",
    "\n",
    "for i in words:\n",
    "    if words[i] == input(\"%s에 해당되는 영어 단어를 입력해주세요: \" % i):\n",
    "        print(\"정답입니다!\")\n",
    "    else:\n",
    "        print(\"틀렸습니다!\")\n",
    "    print()"
   ]
  },
  {
   "attachments": {
    "%EB%A7%88%EC%9D%BC%EB%A6%AC%EC%A7%80.jpg": {
     "image/jpeg": "[encoded data removed]"
    }
   },
   "cell_type": "markdown",
   "id": "302673a6",
   "metadata": {},
   "source": [
    "회사 쇼핑몰 고객의 아디이에 부여된 마일리지 포인트를 딕셔너리에 저장하여 관리하고자 한다.   \n",
    "1. 위의 표에 나타난 아이디와 마일리지 포인트를 딕셔너리에 저장한 다음 출력하는 프로그램을 작성하시오.\n",
    "![%EB%A7%88%EC%9D%BC%EB%A6%AC%EC%A7%80.jpg](attachment:%EB%A7%88%EC%9D%BC%EB%A6%AC%EC%A7%80.jpg)\n",
    "\n",
    "\n",
    "1. 아이디 : kim99, 마일리지: 12000점  \n",
    "2. 아이디 : lee66, 마일리지: 11000점  \n",
    "3. 아이디 : han55, 마일리지: 3000점  \n",
    "4. 아이디 : hong77, 마일리지: 5000점  \n",
    "5. 아이디 : hwang33, 마일리지: 18000점\n"
   ]
  },
  {
   "cell_type": "code",
   "execution_count": 6,
   "id": "6bfa29b7",
   "metadata": {},
   "outputs": [
    {
     "name": "stdout",
     "output_type": "stream",
     "text": [
      "1. 아이디 : kim99, 마일리지: 12000점\n",
      "2. 아이디 : lee66, 마일리지: 11000점\n",
      "3. 아이디 : han55, 마일리지: 3000점\n",
      "4. 아이디 : hong77, 마일리지: 5000점\n",
      "5. 아이디 : hwang33, 마일리지: 18000점\n"
     ]
    }
   ],
   "source": [
    "data = {'kim99': 12000, 'lee66':11000, 'han55':3000, 'hong77':5000, 'hwang33':18000}\n",
    "num = 1\n",
    "for i in data:\n",
    "    print(\"%d. 아이디 : %s, 마일리지: %d점\" % (num, i, data[i]))\n",
    "    num += 1"
   ]
  },
  {
   "cell_type": "code",
   "execution_count": 9,
   "id": "3f91997e",
   "metadata": {},
   "outputs": [
    {
     "name": "stdout",
     "output_type": "stream",
     "text": [
      "han55님의 마일리지가 5000점으로 수정되었습니다.\n"
     ]
    }
   ],
   "source": [
    "data = {'kim99': 12000, 'lee66':11000, 'han55':3000, 'hong77':5000, 'hwang33':18000}\n",
    "\n",
    "data[\"han55\"] = 5000\n",
    "\n",
    "for key in data:\n",
    "    if key == \"han55\":\n",
    "        print(\"%s님의 마일리지가 %d점으로 수정되었습니다.\" % (key, data[key]))"
   ]
  },
  {
   "cell_type": "markdown",
   "id": "64d33717",
   "metadata": {},
   "source": [
    "3. 딕셔너리에 아이디 'jang88'과 마일리지 7000을 추가한 다음 전체 딕셔너리와 추가된 데이터를 출력하는 프로그램을 작성하시오.       \n",
    "\n",
    "\n",
    "전체 딕셔너리 : {'kim99': 12000, 'lee66': 11000, 'han55': 3000, 'hong77': 5000, 'hwang33': 18000, 'jang88': 7000}    \n",
    "jang88님의 마일리지(7000점)가 추가 되었습니다.\n"
   ]
  },
  {
   "cell_type": "code",
   "execution_count": 13,
   "id": "3ca651b2",
   "metadata": {},
   "outputs": [
    {
     "name": "stdout",
     "output_type": "stream",
     "text": [
      "jang88님의 마일리지가 7000점으로 추가되었습니다.\n"
     ]
    }
   ],
   "source": [
    "data = {'kim99': 12000, 'lee66':11000, 'han55':3000, 'hong77':5000, 'hwang33':18000}\n",
    "\n",
    "data[\"jang88\"] = 7000\n",
    "\n",
    "for key in data:\n",
    "    if key == \"jang88\":\n",
    "        print(\"%s님의 마일리지가 %d점으로 추가되었습니다.\" % (key, data[key]))"
   ]
  },
  {
   "cell_type": "code",
   "execution_count": 17,
   "id": "719c32c6",
   "metadata": {},
   "outputs": [
    {
     "name": "stdout",
     "output_type": "stream",
     "text": [
      "hwang33님의 18000점이 가장 높은 점수입니다.\n"
     ]
    }
   ],
   "source": [
    "# 가장높은 마일리지 출력\n",
    "data = {'kim99': 12000, 'lee66':11000, 'han55':3000, 'hong77':5000, 'hwang33':18000}\n",
    "\n",
    "max_id = \"kim99\"\n",
    "max_pts = data[\"kim99\"]\n",
    "\n",
    "for key in data:\n",
    "    if max_pts < data[key]:\n",
    "        max_id = key\n",
    "        max_pts = data[key]\n",
    "    # print(\"%s, %d\" % (max_id, max_pts))\n",
    "print(\"%s님의 %d점이 가장 높은 점수입니다.\" % (max_id, max_pts))"
   ]
  }
 ],
 "metadata": {
  "kernelspec": {
   "display_name": "Python 3",
   "language": "python",
   "name": "python3"
  },
  "language_info": {
   "codemirror_mode": {
    "name": "ipython",
    "version": 3
   },
   "file_extension": ".py",
   "mimetype": "text/x-python",
   "name": "python",
   "nbconvert_exporter": "python",
   "pygments_lexer": "ipython3",
   "version": "3.8.8"
  }
 },
 "nbformat": 4,
 "nbformat_minor": 5
}
